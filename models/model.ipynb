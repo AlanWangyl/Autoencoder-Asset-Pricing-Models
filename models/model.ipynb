{
 "cells": [
  {
   "cell_type": "code",
   "execution_count": null,
   "metadata": {},
   "outputs": [],
   "source": [
    "import pandas as pd\n",
    "import numpy as np\n",
    "\n",
    "import datetime\n",
    "from dateutil.relativedelta import relativedelta\n",
    "\n",
    "from tqdm import tqdm\n",
    "\n",
    "from joblib import delayed, Parallel \n",
    "\n",
    "import sys\n",
    "sys.path.append('../')\n",
    "from utils import CHARAS_LIST\n",
    "\n",
    "import warnings\n",
    "warnings.filterwarnings('ignore')"
   ]
  },
  {
   "cell_type": "code",
   "execution_count": null,
   "metadata": {},
   "outputs": [],
   "source": [
    "class modelBase:\n",
    "    def __init__(self, name):\n",
    "        self.name = name\n",
    "        self.train_idx = 0\n",
    "        \n",
    "        # initial train, valid and test periods are default accroding to original paper\n",
    "        self.train_period = [19570101, 19741231]\n",
    "        self.valid_period = [19750101, 19861231]\n",
    "        self.test_period  = [19870101, 19871231]\n",
    "    \n",
    "    \n",
    "    def train_model(self):\n",
    "        # print('trained')\n",
    "        pass\n",
    "\n",
    "    \n",
    "    def calBeta(self, month):\n",
    "        \"\"\"\n",
    "        Calculate specific month's beta. Should be specified by different models\n",
    "        -> return np.array, dim = (N, K)\n",
    "        \"\"\"\n",
    "        # return np.zeros([13000, 3])\n",
    "        pass\n",
    "    \n",
    "        \n",
    "    def calFactor(self, month):\n",
    "        \"\"\"\n",
    "        Calculate specific month's factor. Should be specified by different models\n",
    "        -> return np.array, dim = (K, 1)\n",
    "        \"\"\"\n",
    "        # return np.zeros([3, 1])\n",
    "        pass    \n",
    "       \n",
    "    \n",
    "    def cal_delayed_Factor(self, month):\n",
    "        \"\"\"\n",
    "        Calculate delayed month's factor, i.e. mean average of factors up to t-1. Should be specified by different models\n",
    "        -> return np.array, dim = (K, 1)\n",
    "        \"\"\"\n",
    "        pass\n",
    "    \n",
    "    \n",
    "    def inference(self, month):       \n",
    "        assert month >= self.test_period[0], f\"Month error, {month} is not in test period {self.test_period}\"\n",
    "        \n",
    "        mon_factor, mon_beta = self.calFactor(month), self.calBeta(month)\n",
    "        \n",
    "        assert mon_beta.shape[1] == mon_factor.shape[0], f\"Dimension mismatch between mon_factor: {mon_factor.shape} and mon_beta: {mon_beta.shape}\"\n",
    "        \n",
    "        # R_{N*1} = Beta_{N*K} @ F_{K*1}\n",
    "        return mon_beta @ mon_factor\n",
    "        \n",
    "    \n",
    "    def predict(self, month):\n",
    "        assert month >= self.test_period[0] and month <= self.test_period[1], f\"Month error, {month} is not in test period {self.test_period}\"\n",
    "        \n",
    "        lag_factor, mon_beta = self.cal_delayed_Factor(month), self.calBeta(month)\n",
    "        \n",
    "        assert mon_beta.shape[1] == lag_factor.shape[0], f\"Dimension mismatch between lag_factor: {lag_factor.shape} and mon_beta: {mon_beta.shape}\"\n",
    "        \n",
    "        # R_{N*1} = Beta_{N*K} @ lag_F_avg{K*1}  \n",
    "        return mon_beta @ lag_factor\n",
    "    \n",
    "    \n",
    "    def refit(self):\n",
    "        self.train_period[1] += 10000\n",
    "        self.valid_period = (pd.Series(self.valid_period) + 10000).to_list()\n",
    "        self.test_period = (pd.Series(self.test_period) + 10000).to_list()\n",
    "        "
   ]
  },
  {
   "cell_type": "code",
   "execution_count": null,
   "metadata": {},
   "outputs": [],
   "source": [
    "from ipca import InstrumentedPCA\n",
    "\n",
    "class IPCA(modelBase):\n",
    "    def __init__(self, K, portfolio=True):\n",
    "        super(IPCA, self).__init__(f'IPCA_{K}')\n",
    "        self.K = K\n",
    "        self.portfolio = portfolio\n",
    "        self.__prepare_data()\n",
    "\n",
    "    def __prepare_data(self):\n",
    "        self.p_charas = pd.read_pickle('../data/p_charas.pkl')\n",
    "        portfolio_ret=  pd.read_pickle('../data/portfolio_ret.pkl')\n",
    "        self.p_charas['p_ret'] = np.zeros(self.p_charas.shape[0])\n",
    "        self.train_p_charas = self.p_charas.loc[self.p_charas.DATE <= self.test_period[1]].copy(deep=False).reset_index().set_index(['index', 'DATE']).sort_index()\n",
    "        for chr in charas:\n",
    "            self.train_p_charas.loc[f'p_{chr}', 'p_ret'] = portfolio_ret.loc[portfolio_ret.DATE <= self.test_period[1]][chr].values\n",
    "        \n",
    "        \n",
    "    def train_model(self):\n",
    "        y = self.train_p_charas['p_ret']\n",
    "        X = self.train_p_charas.drop('p_ret', axis=1)\n",
    "\n",
    "        self.regr = InstrumentedPCA(n_factors=1, intercept=True)\n",
    "        self.regr = self.regr.fit(X=X, y=y)\n",
    "        self.Gamma, self.Factors = self.regr.get_factors(label_ind=False)\n",
    "        \n",
    "    \n",
    "    def inference(self, month):\n",
    "        X_pred = self.p_charas.loc[self.p_charas.DATE == month].copy(deep=False).reset_index().set_index(['index', 'DATE']).sort_index()\n",
    "        return self.ipca_1.regr.predict(X_pred, mean_factor=True) # (N, 1)\n",
    "    \n",
    "    def predict(self, month):\n",
    "        lag_X = self.p_charas.loc[self.p_charas.DATE < month].copy(deep=False).reset_index().groupby('index').mean()\n",
    "        lag_X.DATE = self.p_charas.loc[self.p_charas.DATE < month].DATE.drop_duplicates()[-1]\n",
    "        lag_X = lag_X.reset_index().set_index(['index', 'DATE']).sort_index()\n",
    "        return self.ipca_1.regr.predict(X_pred, mean_factor=True) # (N, 1)\n",
    "    "
   ]
  },
  {
   "cell_type": "code",
   "execution_count": null,
   "metadata": {},
   "outputs": [],
   "source": [
    "ipca_1 = IPCA(1)"
   ]
  },
  {
   "cell_type": "code",
   "execution_count": null,
   "metadata": {},
   "outputs": [],
   "source": [
    "p_charas = pd.read_pickle('../data/p_charas.pkl')"
   ]
  },
  {
   "cell_type": "code",
   "execution_count": null,
   "metadata": {},
   "outputs": [],
   "source": [
    "month = 19870130"
   ]
  },
  {
   "cell_type": "code",
   "execution_count": null,
   "metadata": {},
   "outputs": [],
   "source": [
    "p_charas.loc[p_charas.DATE == month].drop('acc', axis=1)"
   ]
  },
  {
   "cell_type": "code",
   "execution_count": null,
   "metadata": {},
   "outputs": [],
   "source": [
    "ipca_1.regr.predict(lag_X, mean_factor=True).shape"
   ]
  },
  {
   "cell_type": "code",
   "execution_count": null,
   "metadata": {},
   "outputs": [],
   "source": [
    "X_pred"
   ]
  },
  {
   "cell_type": "code",
   "execution_count": null,
   "metadata": {},
   "outputs": [],
   "source": [
    "ipca_1.train_model()"
   ]
  },
  {
   "cell_type": "code",
   "execution_count": null,
   "metadata": {},
   "outputs": [],
   "source": [
    "p_chara = pd.read_pickle('../data/p_charas.pkl')"
   ]
  },
  {
   "cell_type": "code",
   "execution_count": null,
   "metadata": {},
   "outputs": [],
   "source": [
    "ipca_1.test_period[1]"
   ]
  },
  {
   "cell_type": "code",
   "execution_count": null,
   "metadata": {},
   "outputs": [],
   "source": [
    "X = p_chara.loc[p_chara.DATE==19871231]"
   ]
  },
  {
   "cell_type": "code",
   "execution_count": null,
   "metadata": {},
   "outputs": [],
   "source": [
    "ipca_1.regr.predict(portfolio_ret.loc[portfolio_ret.DATE == 19871231][charas].values).shape"
   ]
  },
  {
   "cell_type": "code",
   "execution_count": null,
   "metadata": {},
   "outputs": [],
   "source": []
  }
 ],
 "metadata": {
  "kernelspec": {
   "display_name": "myconda",
   "language": "python",
   "name": "python3"
  },
  "language_info": {
   "codemirror_mode": {
    "name": "ipython",
    "version": 3
   },
   "file_extension": ".py",
   "mimetype": "text/x-python",
   "name": "python",
   "nbconvert_exporter": "python",
   "pygments_lexer": "ipython3",
   "version": "3.8.12"
  },
  "orig_nbformat": 4
 },
 "nbformat": 4,
 "nbformat_minor": 2
}
