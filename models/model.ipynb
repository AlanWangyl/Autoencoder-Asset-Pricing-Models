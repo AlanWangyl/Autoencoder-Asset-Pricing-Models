{
 "cells": [
  {
   "cell_type": "code",
   "execution_count": null,
   "metadata": {},
   "outputs": [],
   "source": [
    "import pandas as pd\n",
    "import numpy as np\n",
    "\n",
    "import datetime\n",
    "from dateutil.relativedelta import relativedelta"
   ]
  },
  {
   "cell_type": "code",
   "execution_count": null,
   "metadata": {},
   "outputs": [],
   "source": [
    "class modelBase:\n",
    "    def __init__(self, name):\n",
    "        self.name = name\n",
    "        self.train_idx = 0\n",
    "        \n",
    "        # initial train, valid and test periods are default accroding to original paper\n",
    "        self.train_period = [19570101, 19741231] \n",
    "        self.valid_period = [19750101, 19861231]\n",
    "        self.test_period  = [19870101, 19871231]\n",
    "        \n",
    "        # beta_fn and factor_fn are functions to generate beta and factor. They can be float (for FF, PCA), linear function (for IPCA) or NN (for CA, CAA)\n",
    "        self.beta_fn = None\n",
    "        self.factor_fn = None\n",
    "    \n",
    "    def train(self):\n",
    "        # print('trained')\n",
    "        pass\n",
    "\n",
    "    \n",
    "    def calBeta(self, month):\n",
    "        '''\n",
    "        Calculate specific month's beta. Should be specified by different models\n",
    "        -> return np.array, dim = (K, 1)\n",
    "        '''\n",
    "        return np.zeros([3, 1])\n",
    "        pass\n",
    "    \n",
    "        \n",
    "    def calFactor(self, month):\n",
    "        '''\n",
    "        Calculate specific month's factor. Should be specified by different models\n",
    "        -> return np.array, dim = (N, K)\n",
    "        '''\n",
    "        return np.zeros([1300, 3])\n",
    "        pass    \n",
    "       \n",
    "    \n",
    "    def inference(self, month):        \n",
    "        assert month >= self.test_period[0], f\"Month error, {month} is not in test period {self.test_period}\"\n",
    "        \n",
    "        mon_factor, mon_beta = self.calFactor(month), self.calBeta(month)\n",
    "        \n",
    "        assert mon_factor.shape[1] == mon_beta.shape[0], f\"Dimension mismatch between mon_factor: {mon_factor.shape} and mon_beta: {mon_beta.shape}\"\n",
    "        \n",
    "        # R_{N*1} = F_{N*K} @ Beta_{K*1}\n",
    "        return mon_factor @ mon_beta \n",
    "        \n",
    "    \n",
    "    def predict(self, month):\n",
    "        assert month >= self.test_period[0] and month <= self.test_period[1], f\"Month error, {month} is not in test period {self.test_period}\"\n",
    "        \n",
    "        mon_beta = self.calBeta(month)\n",
    "        \n",
    "        mon_start = datetime.datetime.strptime(str(self.valid_period[0]),'%Y%m%d')\n",
    "        mon_end = datetime.datetime.strptime(str(month),'%Y%m%d')\n",
    "        \n",
    "        lag_factor_list = []\n",
    "        while mon_start < mon_end - relativedelta(months=1):\n",
    "            # lag_factor_{N*K}\n",
    "            lag_factor = self.calFactor(int(str(mon_start).split(' ')[0].replace('-', '')))\n",
    "            lag_factor_list.append(lag_factor)\n",
    "            mon_start += relativedelta(months=1)\n",
    "        \n",
    "        # lag_factor_avg_{N*K}\n",
    "        lag_factor_avg = np.array(lag_factor_list).mean(axis=0)\n",
    "        \n",
    "        assert lag_factor_avg.shape[1] == mon_beta.shape[0], f\"Dimension mismatch between lag_factor_avg: {lag_factor_avg.shape} and mon_beta: {mon_beta.shape}\"\n",
    "        \n",
    "        # R_{N*1} = lag_F_{N*K} @ Beta_{K*1}\n",
    "        return lag_factor_avg @ mon_beta\n",
    "    \n",
    "    \n",
    "    def refit(self):\n",
    "        self.train_period[1] += 10000\n",
    "        self.valid_period = (pd.Series(self.valid_period) + 10000).to_list()\n",
    "        self.test_period = (pd.Series(self.test_period) + 10000).to_list()\n",
    "\n",
    "        self.train()\n",
    "        \n",
    "        self.train_idx += 1\n",
    "        print(f'Model has been refitted [{self.train_idx}]')\n",
    "        "
   ]
  },
  {
   "cell_type": "code",
   "execution_count": null,
   "metadata": {},
   "outputs": [],
   "source": [
    "fake_model = modelBase('fake')"
   ]
  },
  {
   "cell_type": "code",
   "execution_count": null,
   "metadata": {},
   "outputs": [],
   "source": [
    "fake_model.train()"
   ]
  },
  {
   "cell_type": "code",
   "execution_count": null,
   "metadata": {},
   "outputs": [],
   "source": [
    "fake_model.refit()"
   ]
  },
  {
   "cell_type": "code",
   "execution_count": null,
   "metadata": {},
   "outputs": [],
   "source": [
    "fake_model.predict(19900301)"
   ]
  },
  {
   "cell_type": "code",
   "execution_count": null,
   "metadata": {},
   "outputs": [],
   "source": []
  }
 ],
 "metadata": {
  "kernelspec": {
   "display_name": "myconda",
   "language": "python",
   "name": "python3"
  },
  "language_info": {
   "codemirror_mode": {
    "name": "ipython",
    "version": 3
   },
   "file_extension": ".py",
   "mimetype": "text/x-python",
   "name": "python",
   "nbconvert_exporter": "python",
   "pygments_lexer": "ipython3",
   "version": "3.8.12"
  },
  "orig_nbformat": 4
 },
 "nbformat": 4,
 "nbformat_minor": 2
}
