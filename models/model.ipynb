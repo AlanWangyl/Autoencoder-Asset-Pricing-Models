{
 "cells": [
  {
   "cell_type": "code",
   "execution_count": 1,
   "metadata": {},
   "outputs": [],
   "source": [
    "import pandas as pd\n",
    "import numpy as np\n",
    "\n",
    "import datetime\n",
    "from dateutil.relativedelta import relativedelta\n",
    "\n",
    "from tqdm import tqdm\n",
    "\n",
    "from joblib import delayed, Parallel \n",
    "\n",
    "import sys\n",
    "sys.path.append('../')\n",
    "from utils import charas\n",
    "\n",
    "import warnings\n",
    "warnings.filterwarnings('ignore')"
   ]
  },
  {
   "cell_type": "code",
   "execution_count": 143,
   "metadata": {},
   "outputs": [],
   "source": [
    "class modelBase:\n",
    "    def __init__(self, name):\n",
    "        self.name = name\n",
    "        self.train_idx = 0\n",
    "        \n",
    "        # initial train, valid and test periods are default accroding to original paper\n",
    "        self.train_period = [19570101, 19741231]\n",
    "        self.valid_period = [19750101, 19861231]\n",
    "        self.test_period  = [19870101, 19871231]\n",
    "    \n",
    "    \n",
    "    def train_model(self):\n",
    "        # print('trained')\n",
    "        pass\n",
    "\n",
    "    \n",
    "    def calBeta(self, month):\n",
    "        \"\"\"\n",
    "        Calculate specific month's beta. Should be specified by different models\n",
    "        -> return np.array, dim = (N, K)\n",
    "        \"\"\"\n",
    "        # return np.zeros([13000, 3])\n",
    "        pass\n",
    "    \n",
    "        \n",
    "    def calFactor(self, month):\n",
    "        \"\"\"\n",
    "        Calculate specific month's factor. Should be specified by different models\n",
    "        -> return np.array, dim = (K, 1)\n",
    "        \"\"\"\n",
    "        # return np.zeros([3, 1])\n",
    "        pass    \n",
    "       \n",
    "    \n",
    "    def cal_delayed_Factor(self, month):\n",
    "        \"\"\"\n",
    "        Calculate delayed month's factor, i.e. mean average of factors up to t-1. Should be specified by different models\n",
    "        -> return np.array, dim = (K, 1)\n",
    "        \"\"\"\n",
    "        pass\n",
    "    \n",
    "    \n",
    "    def inference(self, month):       \n",
    "        assert month >= self.test_period[0], f\"Month error, {month} is not in test period {self.test_period}\"\n",
    "        \n",
    "        mon_factor, mon_beta = self.calFactor(month), self.calBeta(month)\n",
    "        \n",
    "        assert mon_beta.shape[1] == mon_factor.shape[0], f\"Dimension mismatch between mon_factor: {mon_factor.shape} and mon_beta: {mon_beta.shape}\"\n",
    "        \n",
    "        # R_{N*1} = Beta_{N*K} @ F_{K*1}\n",
    "        return mon_beta @ mon_factor\n",
    "        \n",
    "    \n",
    "    def predict(self, month):\n",
    "        assert month >= self.test_period[0] and month <= self.test_period[1], f\"Month error, {month} is not in test period {self.test_period}\"\n",
    "        \n",
    "        lag_factor, mon_beta = self.cal_delayed_Factor(month), self.calBeta(month)\n",
    "        \n",
    "        assert mon_beta.shape[1] == lag_factor.shape[0], f\"Dimension mismatch between lag_factor: {lag_factor.shape} and mon_beta: {mon_beta.shape}\"\n",
    "        \n",
    "        # R_{N*1} = Beta_{N*K} @ lag_F_avg{K*1}  \n",
    "        return mon_beta @ lag_factor\n",
    "    \n",
    "    \n",
    "    def refit(self):\n",
    "        self.train_period[1] += 10000\n",
    "        self.valid_period = (pd.Series(self.valid_period) + 10000).to_list()\n",
    "        self.test_period = (pd.Series(self.test_period) + 10000).to_list()\n",
    "        "
   ]
  },
  {
   "cell_type": "code",
   "execution_count": 18,
   "metadata": {},
   "outputs": [],
   "source": [
    "def stock_R_matrix(start_date, end_date):\n",
    "    R_matrix = pd.read_pickle('../data/stock_R_matrix.pkl')\n",
    "    return R_matrix.T.loc[start_date: end_date].T\n",
    "\n",
    "def portfolio_R_matrix(start_date, end_date):\n",
    "    portfolio_ret = pd.read_pickle('../data/portfolio_ret.pkl')\n",
    "    return portfolio_ret.loc[(portfolio_ret['DATE'] >= start_date) & (portfolio_ret['DATE'] <= end_date)].set_index('DATE').T"
   ]
  },
  {
   "cell_type": "code",
   "execution_count": 19,
   "metadata": {},
   "outputs": [],
   "source": [
    "class PCA(modelBase):\n",
    "    def __init__(self, K, portfolio=True):\n",
    "        super(PCA, self).__init__(f'PCA_{K}')\n",
    "        self.K = K\n",
    "        self.portfolio = portfolio\n",
    "        \n",
    "        \n",
    "    def __col_de_mean(self, matrix):\n",
    "        return (matrix - matrix.mean()).fillna(0)\n",
    "    \n",
    "        \n",
    "    def inference(self, month):\n",
    "        if self.portfolio:\n",
    "            r_matrix = self.__col_de_mean(portfolio_R_matrix(self.train_period[0], month)).astype(np.float32)\n",
    "        else:\n",
    "            r_matrix = self.__col_de_mean(stock_R_matrix(self.train_period[0], month))   \n",
    "        u, sigma, vt = np.linalg.svd(r_matrix)\n",
    "        # B_{N*K}\n",
    "        B = u[:, :self.K]\n",
    "        # F_{K*1}\n",
    "        F = np.diag(sigma[:self.K]) @ vt[:self.K, -1]\n",
    "        return B @ F\n",
    "        \n",
    "            \n",
    "    def predict(self, month):\n",
    "        if self.portfolio:\n",
    "            r_matrix = self.__col_de_mean(portfolio_R_matrix(self.train_period[0], month)).astype(np.float32)\n",
    "        else:\n",
    "            r_matrix = self.__col_de_mean(stock_R_matrix(self.train_period[0], month))\n",
    "        u, sigma, vt = np.linalg.svd(r_matrix)\n",
    "        # B_{N*K}\n",
    "        B = u[:, :self.K]\n",
    "        # F_{K*1}\n",
    "        lag_F = np.diag(sigma[:self.K]) @ vt[:self.K, :-1]\n",
    "        return B @ np.mean(lag_F, axis=1)"
   ]
  },
  {
   "cell_type": "code",
   "execution_count": 23,
   "metadata": {},
   "outputs": [],
   "source": [
    "pca_1 = PCA(1)"
   ]
  },
  {
   "cell_type": "code",
   "execution_count": 47,
   "metadata": {},
   "outputs": [],
   "source": [
    "ff5 = pd.read_csv('../data/ff5.csv', index_col=0)\n",
    "UMD = pd.read_csv('../data/UMD.csv', index_col=0)\n",
    "UMD.columns = ['UMD']\n",
    "FFf = pd.concat([ff5, UMD.loc[196307:]], axis=1)\n",
    "FFf = FFf[['Mkt-RF', 'SMB', 'HML', 'CMA', 'RMW', 'UMD']]"
   ]
  },
  {
   "cell_type": "code",
   "execution_count": 88,
   "metadata": {},
   "outputs": [
    {
     "data": {
      "text/plain": [
       "array([-5.77, -3.48,  2.09])"
      ]
     },
     "execution_count": 88,
     "metadata": {},
     "output_type": "execute_result"
    }
   ],
   "source": [
    "FFf[FFf.columns[:3]].loc[20160101//100].values"
   ]
  },
  {
   "cell_type": "code",
   "execution_count": 98,
   "metadata": {},
   "outputs": [
    {
     "data": {
      "text/plain": [
       "201512"
      ]
     },
     "execution_count": 98,
     "metadata": {},
     "output_type": "execute_result"
    }
   ],
   "source": []
  },
  {
   "cell_type": "code",
   "execution_count": null,
   "metadata": {},
   "outputs": [],
   "source": []
  },
  {
   "cell_type": "code",
   "execution_count": 148,
   "metadata": {},
   "outputs": [],
   "source": [
    "import statsmodels.api as sm\n",
    "\n",
    "class FF(modelBase):\n",
    "    def __init__(self, K, portfolio=True):\n",
    "        super(FF, self).__init__(f'FF_{K}')\n",
    "        self.K = K\n",
    "        self.portfolio = portfolio\n",
    "        self.train_period[0] = 19630731 # ff5 data from FF website is only available from 196307\n",
    "        self.__prepare_FFf()\n",
    "        \n",
    "    \n",
    "    def __prepare_FFf(self):\n",
    "        ff5 = pd.read_csv('../data/ff5.csv', index_col=0)\n",
    "        UMD = pd.read_csv('../data/UMD.csv', index_col=0)\n",
    "        UMD.columns = ['UMD']\n",
    "        FFf = pd.concat([ff5, UMD.loc[196307:]], axis=1)\n",
    "        self.fname = ['Mkt-RF', 'SMB', 'HML', 'CMA', 'RMW', 'UMD']\n",
    "        self.FFf = FFf[self.fname]\n",
    "        self.portfolio_ret = pd.read_pickle('../data/portfolio_ret.pkl')\n",
    "        self.portfolio_ret['DATE'] = self.portfolio_ret['DATE'].apply(lambda x: x//100)\n",
    "        \n",
    "    \n",
    "    def train(self):\n",
    "        self.beta_matrix = []\n",
    "        X = self.FFf[self.fname[:self.K]].loc[self.train_period[0]//100:self.train_period[1]//100]\n",
    "        for col in charas:\n",
    "            y = self.portfolio_ret.set_index('DATE')[col].loc[self.train_period[0]//100:self.train_period[1]//100]\n",
    "            model = sm.OLS(y.values, X.values).fit()\n",
    "            self.beta_matrix.append(model.params)\n",
    "        self.beta_matrix = pd.DataFrame(self.beta_matrix, columns=self.fname[:self.K], index=charas)\n",
    "    \n",
    "        \n",
    "    def calBeta(self, month):\n",
    "        return self.beta_matrix # N * K\n",
    "        \n",
    "            \n",
    "    def calFactor(self, month):\n",
    "        return self.FFf[self.fname[:self.K]].loc[month//100] # K * 1\n",
    "        \n",
    "        \n",
    "    def cal_delayed_Factor(self, month):\n",
    "        last_mon = int(str(pd.to_datetime(str(month)) - relativedelta(months=1)).split(' ')[0].replace('-', '')[:-2])\n",
    "        return self.FFf[self.fname[:self.K]].loc[self.valid_period[0]:last_mon].mean()\n",
    "        \n"
   ]
  },
  {
   "cell_type": "code",
   "execution_count": 151,
   "metadata": {},
   "outputs": [
    {
     "data": {
      "text/html": [
       "<div>\n",
       "<style scoped>\n",
       "    .dataframe tbody tr th:only-of-type {\n",
       "        vertical-align: middle;\n",
       "    }\n",
       "\n",
       "    .dataframe tbody tr th {\n",
       "        vertical-align: top;\n",
       "    }\n",
       "\n",
       "    .dataframe thead th {\n",
       "        text-align: right;\n",
       "    }\n",
       "</style>\n",
       "<table border=\"1\" class=\"dataframe\">\n",
       "  <thead>\n",
       "    <tr style=\"text-align: right;\">\n",
       "      <th></th>\n",
       "      <th>Mkt-RF</th>\n",
       "      <th>SMB</th>\n",
       "      <th>HML</th>\n",
       "    </tr>\n",
       "  </thead>\n",
       "  <tbody>\n",
       "    <tr>\n",
       "      <th>196307</th>\n",
       "      <td>-0.39</td>\n",
       "      <td>-0.41</td>\n",
       "      <td>-0.97</td>\n",
       "    </tr>\n",
       "    <tr>\n",
       "      <th>196308</th>\n",
       "      <td>5.07</td>\n",
       "      <td>-0.80</td>\n",
       "      <td>1.80</td>\n",
       "    </tr>\n",
       "    <tr>\n",
       "      <th>196309</th>\n",
       "      <td>-1.57</td>\n",
       "      <td>-0.52</td>\n",
       "      <td>0.13</td>\n",
       "    </tr>\n",
       "    <tr>\n",
       "      <th>196310</th>\n",
       "      <td>2.53</td>\n",
       "      <td>-1.39</td>\n",
       "      <td>-0.10</td>\n",
       "    </tr>\n",
       "    <tr>\n",
       "      <th>196311</th>\n",
       "      <td>-0.85</td>\n",
       "      <td>-0.88</td>\n",
       "      <td>1.75</td>\n",
       "    </tr>\n",
       "    <tr>\n",
       "      <th>...</th>\n",
       "      <td>...</td>\n",
       "      <td>...</td>\n",
       "      <td>...</td>\n",
       "    </tr>\n",
       "    <tr>\n",
       "      <th>201608</th>\n",
       "      <td>0.49</td>\n",
       "      <td>1.70</td>\n",
       "      <td>3.13</td>\n",
       "    </tr>\n",
       "    <tr>\n",
       "      <th>201609</th>\n",
       "      <td>0.25</td>\n",
       "      <td>1.86</td>\n",
       "      <td>-1.23</td>\n",
       "    </tr>\n",
       "    <tr>\n",
       "      <th>201610</th>\n",
       "      <td>-2.02</td>\n",
       "      <td>-4.04</td>\n",
       "      <td>4.12</td>\n",
       "    </tr>\n",
       "    <tr>\n",
       "      <th>201611</th>\n",
       "      <td>4.86</td>\n",
       "      <td>7.04</td>\n",
       "      <td>8.19</td>\n",
       "    </tr>\n",
       "    <tr>\n",
       "      <th>201612</th>\n",
       "      <td>1.81</td>\n",
       "      <td>0.39</td>\n",
       "      <td>3.56</td>\n",
       "    </tr>\n",
       "  </tbody>\n",
       "</table>\n",
       "<p>642 rows × 3 columns</p>\n",
       "</div>"
      ],
      "text/plain": [
       "        Mkt-RF   SMB   HML\n",
       "196307   -0.39 -0.41 -0.97\n",
       "196308    5.07 -0.80  1.80\n",
       "196309   -1.57 -0.52  0.13\n",
       "196310    2.53 -1.39 -0.10\n",
       "196311   -0.85 -0.88  1.75\n",
       "...        ...   ...   ...\n",
       "201608    0.49  1.70  3.13\n",
       "201609    0.25  1.86 -1.23\n",
       "201610   -2.02 -4.04  4.12\n",
       "201611    4.86  7.04  8.19\n",
       "201612    1.81  0.39  3.56\n",
       "\n",
       "[642 rows x 3 columns]"
      ]
     },
     "execution_count": 151,
     "metadata": {},
     "output_type": "execute_result"
    }
   ],
   "source": [
    "ff3.FFf[ff3.fname[:3]].loc[]"
   ]
  },
  {
   "cell_type": "code",
   "execution_count": 146,
   "metadata": {},
   "outputs": [],
   "source": [
    "ff3 = FF(3) "
   ]
  },
  {
   "cell_type": "code",
   "execution_count": 149,
   "metadata": {},
   "outputs": [
    {
     "data": {
      "text/plain": [
       "Mkt-RF   NaN\n",
       "SMB      NaN\n",
       "HML      NaN\n",
       "dtype: float64"
      ]
     },
     "execution_count": 149,
     "metadata": {},
     "output_type": "execute_result"
    }
   ],
   "source": [
    "ff3.cal_delayed_Factor(19870201)"
   ]
  },
  {
   "cell_type": "code",
   "execution_count": 141,
   "metadata": {},
   "outputs": [
    {
     "data": {
      "text/plain": [
       "Mkt-RF    4.39\n",
       "SMB       3.40\n",
       "HML      -5.91\n",
       "Name: 198702, dtype: float64"
      ]
     },
     "execution_count": 141,
     "metadata": {},
     "output_type": "execute_result"
    }
   ],
   "source": [
    "ff3.FFf[ff3.fname[:ff3.K]].loc[19870201//100]"
   ]
  },
  {
   "cell_type": "code",
   "execution_count": 129,
   "metadata": {},
   "outputs": [],
   "source": [
    "ff3.train()"
   ]
  },
  {
   "cell_type": "code",
   "execution_count": 131,
   "metadata": {},
   "outputs": [],
   "source": [
    "ff3.calFactor(19870201)"
   ]
  },
  {
   "cell_type": "code",
   "execution_count": 28,
   "metadata": {},
   "outputs": [],
   "source": [
    "mon_list = pd.read_pickle('../data/mon_list.pkl')"
   ]
  },
  {
   "cell_type": "code",
   "execution_count": 29,
   "metadata": {},
   "outputs": [
    {
     "data": {
      "text/plain": [
       "0      19570329\n",
       "1      19570430\n",
       "2      19570531\n",
       "3      19570628\n",
       "4      19570731\n",
       "         ...   \n",
       "713    20160831\n",
       "714    20160930\n",
       "715    20161031\n",
       "716    20161130\n",
       "717    20161230\n",
       "Name: DATE, Length: 718, dtype: int64"
      ]
     },
     "execution_count": 29,
     "metadata": {},
     "output_type": "execute_result"
    }
   ],
   "source": [
    "mon_list.to_csv()"
   ]
  },
  {
   "cell_type": "code",
   "execution_count": 24,
   "metadata": {},
   "outputs": [],
   "source": [
    "def model_inference_and_predict(model):\n",
    "    mon_list = pd.read_pickle('../data/mon_list.pkl')\n",
    "    test_mons = mon_list.loc[mon_list >= model.test_period[0]]\n",
    "    inference_result = []\n",
    "    predict_result = []\n",
    "    T_bar = tqdm(test_mons.groupby(test_mons.apply(lambda x: x//10000)), colour='red', desc=f'{model.name} Inferencing & Predicting')\n",
    "    \n",
    "    for g in T_bar: # rolling train\n",
    "        T_bar.set_postfix({'Year': g[0]})\n",
    "        model.train()\n",
    "        \n",
    "        for m in g[1].to_list():\n",
    "            inference_result.append(model.inference(m))\n",
    "            predict_result.append(model.predict(m))\n",
    "        # model refit (change train period and valid period)\n",
    "        model.refit()\n",
    "\n",
    "    inference_result = pd.DataFrame(inference_result, index=test_mons, columns=charas)\n",
    "    inference_result.to_csv(f'../results/inference/{model.name}_inference.csv')\n",
    "    \n",
    "    predict_result = pd.DataFrame(predict_result, index=test_mons, columns=charas)\n",
    "    predict_result.to_csv(f'../results/predict/{model.name}_predict.csv')"
   ]
  },
  {
   "cell_type": "code",
   "execution_count": 25,
   "metadata": {},
   "outputs": [
    {
     "name": "stderr",
     "output_type": "stream",
     "text": [
      "PCA_1 Inferencing & Predicting: 100%|\u001b[31m██████████\u001b[0m| 30/30 [00:24<00:00,  1.24it/s, Year=2016]\n"
     ]
    }
   ],
   "source": [
    "model_inference_and_predict(pca_1)"
   ]
  },
  {
   "cell_type": "code",
   "execution_count": 15,
   "metadata": {},
   "outputs": [
    {
     "name": "stderr",
     "output_type": "stream",
     "text": [
      "PCA_1 Predicting: 0it [00:00, ?it/s]\n"
     ]
    }
   ],
   "source": [
    "model_predict(pca_1)"
   ]
  },
  {
   "cell_type": "code",
   "execution_count": 16,
   "metadata": {},
   "outputs": [
    {
     "name": "stdout",
     "output_type": "stream",
     "text": [
      "A\n"
     ]
    }
   ],
   "source": [
    "print('A')"
   ]
  },
  {
   "cell_type": "code",
   "execution_count": null,
   "metadata": {},
   "outputs": [],
   "source": []
  }
 ],
 "metadata": {
  "kernelspec": {
   "display_name": "myconda",
   "language": "python",
   "name": "python3"
  },
  "language_info": {
   "codemirror_mode": {
    "name": "ipython",
    "version": 3
   },
   "file_extension": ".py",
   "mimetype": "text/x-python",
   "name": "python",
   "nbconvert_exporter": "python",
   "pygments_lexer": "ipython3",
   "version": "3.8.12"
  },
  "orig_nbformat": 4
 },
 "nbformat": 4,
 "nbformat_minor": 2
}
