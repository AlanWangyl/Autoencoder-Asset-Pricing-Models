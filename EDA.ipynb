{
 "cells": [
  {
   "cell_type": "code",
   "execution_count": 73,
   "metadata": {},
   "outputs": [],
   "source": [
    "import pandas as pd\n",
    "import numpy as np"
   ]
  },
  {
   "cell_type": "code",
   "execution_count": 35,
   "metadata": {},
   "outputs": [],
   "source": [
    "datashare = pd.read_csv('data/datashare.csv')"
   ]
  },
  {
   "cell_type": "code",
   "execution_count": 37,
   "metadata": {},
   "outputs": [],
   "source": [
    "align_data = pd.read_csv('datashare.csv')"
   ]
  },
  {
   "cell_type": "code",
   "execution_count": 50,
   "metadata": {},
   "outputs": [
    {
     "data": {
      "text/plain": [
       "0          19570329\n",
       "1058       19570430\n",
       "2117       19570531\n",
       "3179       19570628\n",
       "4247       19570731\n",
       "             ...   \n",
       "3731683    20160831\n",
       "3737400    20160930\n",
       "3743103    20161031\n",
       "3748794    20161130\n",
       "3754492    20161230\n",
       "Name: DATE, Length: 718, dtype: int64"
      ]
     },
     "execution_count": 50,
     "metadata": {},
     "output_type": "execute_result"
    }
   ],
   "source": [
    "datashare.loc[datashare['DATE'] >= 19570329]['DATE'].drop_duplicates()"
   ]
  },
  {
   "cell_type": "code",
   "execution_count": 53,
   "metadata": {},
   "outputs": [
    {
     "data": {
      "text/plain": [
       "3760033"
      ]
     },
     "execution_count": 53,
     "metadata": {},
     "output_type": "execute_result"
    }
   ],
   "source": [
    "align_data.loc[(align_data['DATE'] <= 20161230) & (align_data['DATE'] >= 19570329)]['DATE'].shape[0]"
   ]
  },
  {
   "cell_type": "code",
   "execution_count": 59,
   "metadata": {},
   "outputs": [
    {
     "name": "stdout",
     "output_type": "stream",
     "text": [
      "19600930\n"
     ]
    }
   ],
   "source": [
    "for d in align_data.loc[(align_data['DATE'] <= 20161230) & (align_data['DATE'] >= 19570329)]['DATE'].drop_duplicates().to_list():\n",
    "    if align_data.loc[align_data['DATE'] == d].shape[0] != datashare.loc[datashare['DATE'] == d].shape[0]:\n",
    "        print(d)\n",
    "        break"
   ]
  },
  {
   "cell_type": "code",
   "execution_count": 66,
   "metadata": {},
   "outputs": [
    {
     "data": {
      "text/plain": [
       "47240    10006\n",
       "47241    10014\n",
       "47242    10030\n",
       "47243    10057\n",
       "47244    10065\n",
       "         ...  \n",
       "48350    53023\n",
       "48351    58843\n",
       "48352    68523\n",
       "48353    75471\n",
       "48354    86239\n",
       "Name: permno, Length: 1115, dtype: int64"
      ]
     },
     "execution_count": 66,
     "metadata": {},
     "output_type": "execute_result"
    }
   ],
   "source": [
    "align_data.loc[align_data['DATE'] == 19600930].permno"
   ]
  },
  {
   "cell_type": "code",
   "execution_count": 67,
   "metadata": {},
   "outputs": [
    {
     "data": {
      "text/plain": [
       "45134    10006\n",
       "45135    10014\n",
       "45136    10030\n",
       "45137    10057\n",
       "45138    10065\n",
       "         ...  \n",
       "46243    53023\n",
       "46244    58843\n",
       "46245    68523\n",
       "46246    75471\n",
       "46247    86239\n",
       "Name: permno, Length: 1114, dtype: int64"
      ]
     },
     "execution_count": 67,
     "metadata": {},
     "output_type": "execute_result"
    }
   ],
   "source": [
    "datashare.loc[datashare['DATE'] == 19600930].permno"
   ]
  },
  {
   "cell_type": "code",
   "execution_count": 68,
   "metadata": {},
   "outputs": [
    {
     "name": "stdout",
     "output_type": "stream",
     "text": [
      "25507\n"
     ]
    }
   ],
   "source": [
    "for sy in align_data.loc[align_data['DATE'] == 19600930].permno.to_list():\n",
    "    if sy not in datashare.loc[datashare['DATE'] == 19600930].permno.to_list():\n",
    "        print(sy)"
   ]
  },
  {
   "cell_type": "code",
   "execution_count": 72,
   "metadata": {},
   "outputs": [
    {
     "data": {
      "text/html": [
       "<div>\n",
       "<style scoped>\n",
       "    .dataframe tbody tr th:only-of-type {\n",
       "        vertical-align: middle;\n",
       "    }\n",
       "\n",
       "    .dataframe tbody tr th {\n",
       "        vertical-align: top;\n",
       "    }\n",
       "\n",
       "    .dataframe thead th {\n",
       "        text-align: right;\n",
       "    }\n",
       "</style>\n",
       "<table border=\"1\" class=\"dataframe\">\n",
       "  <thead>\n",
       "    <tr style=\"text-align: right;\">\n",
       "      <th></th>\n",
       "      <th>permno</th>\n",
       "      <th>DATE</th>\n",
       "      <th>mvel1</th>\n",
       "      <th>beta</th>\n",
       "      <th>betasq</th>\n",
       "      <th>chmom</th>\n",
       "      <th>dolvol</th>\n",
       "      <th>idiovol</th>\n",
       "      <th>indmom</th>\n",
       "      <th>mom1m</th>\n",
       "      <th>...</th>\n",
       "      <th>stdcf</th>\n",
       "      <th>ms</th>\n",
       "      <th>baspread</th>\n",
       "      <th>ill</th>\n",
       "      <th>maxret</th>\n",
       "      <th>retvol</th>\n",
       "      <th>std_dolvol</th>\n",
       "      <th>std_turn</th>\n",
       "      <th>zerotrade</th>\n",
       "      <th>sic2</th>\n",
       "    </tr>\n",
       "  </thead>\n",
       "  <tbody>\n",
       "    <tr>\n",
       "      <th>0</th>\n",
       "      <td>10006</td>\n",
       "      <td>19570329</td>\n",
       "      <td>8.630850e+04</td>\n",
       "      <td>1.117907</td>\n",
       "      <td>1.249717</td>\n",
       "      <td>0.134574</td>\n",
       "      <td>10.296745</td>\n",
       "      <td>0.024863</td>\n",
       "      <td>0.059540</td>\n",
       "      <td>0.002016</td>\n",
       "      <td>...</td>\n",
       "      <td>NaN</td>\n",
       "      <td>NaN</td>\n",
       "      <td>0.013856</td>\n",
       "      <td>1.557681e-07</td>\n",
       "      <td>0.029167</td>\n",
       "      <td>0.013546</td>\n",
       "      <td>0.914592</td>\n",
       "      <td>0.802461</td>\n",
       "      <td>1.066005e-07</td>\n",
       "      <td>37.0</td>\n",
       "    </tr>\n",
       "    <tr>\n",
       "      <th>1</th>\n",
       "      <td>10014</td>\n",
       "      <td>19570329</td>\n",
       "      <td>3.903375e+03</td>\n",
       "      <td>0.331304</td>\n",
       "      <td>0.109762</td>\n",
       "      <td>0.006667</td>\n",
       "      <td>7.032404</td>\n",
       "      <td>0.065248</td>\n",
       "      <td>0.059540</td>\n",
       "      <td>-0.086957</td>\n",
       "      <td>...</td>\n",
       "      <td>NaN</td>\n",
       "      <td>NaN</td>\n",
       "      <td>0.031389</td>\n",
       "      <td>8.383815e-06</td>\n",
       "      <td>0.071429</td>\n",
       "      <td>0.031165</td>\n",
       "      <td>0.943409</td>\n",
       "      <td>0.716406</td>\n",
       "      <td>1.105263e+00</td>\n",
       "      <td>NaN</td>\n",
       "    </tr>\n",
       "    <tr>\n",
       "      <th>2</th>\n",
       "      <td>10022</td>\n",
       "      <td>19570329</td>\n",
       "      <td>9.841000e+03</td>\n",
       "      <td>0.942052</td>\n",
       "      <td>0.887461</td>\n",
       "      <td>0.058761</td>\n",
       "      <td>7.294038</td>\n",
       "      <td>0.029338</td>\n",
       "      <td>0.059540</td>\n",
       "      <td>-0.037037</td>\n",
       "      <td>...</td>\n",
       "      <td>NaN</td>\n",
       "      <td>NaN</td>\n",
       "      <td>0.010066</td>\n",
       "      <td>5.360386e-06</td>\n",
       "      <td>0.020000</td>\n",
       "      <td>0.016886</td>\n",
       "      <td>0.993558</td>\n",
       "      <td>0.534808</td>\n",
       "      <td>2.387797e-07</td>\n",
       "      <td>NaN</td>\n",
       "    </tr>\n",
       "    <tr>\n",
       "      <th>3</th>\n",
       "      <td>10030</td>\n",
       "      <td>19570329</td>\n",
       "      <td>5.190100e+04</td>\n",
       "      <td>0.886532</td>\n",
       "      <td>0.785940</td>\n",
       "      <td>-0.032065</td>\n",
       "      <td>9.516942</td>\n",
       "      <td>0.022007</td>\n",
       "      <td>0.059540</td>\n",
       "      <td>0.000000</td>\n",
       "      <td>...</td>\n",
       "      <td>NaN</td>\n",
       "      <td>NaN</td>\n",
       "      <td>0.009523</td>\n",
       "      <td>1.090908e-07</td>\n",
       "      <td>0.017857</td>\n",
       "      <td>0.009104</td>\n",
       "      <td>0.736000</td>\n",
       "      <td>0.712647</td>\n",
       "      <td>9.202902e-08</td>\n",
       "      <td>NaN</td>\n",
       "    </tr>\n",
       "    <tr>\n",
       "      <th>4</th>\n",
       "      <td>10057</td>\n",
       "      <td>19570329</td>\n",
       "      <td>3.525000e+04</td>\n",
       "      <td>1.229520</td>\n",
       "      <td>1.511719</td>\n",
       "      <td>-0.102811</td>\n",
       "      <td>8.421013</td>\n",
       "      <td>0.025453</td>\n",
       "      <td>0.059540</td>\n",
       "      <td>-0.030717</td>\n",
       "      <td>...</td>\n",
       "      <td>NaN</td>\n",
       "      <td>NaN</td>\n",
       "      <td>0.007661</td>\n",
       "      <td>2.386914e-07</td>\n",
       "      <td>0.007194</td>\n",
       "      <td>0.006748</td>\n",
       "      <td>0.889503</td>\n",
       "      <td>0.775954</td>\n",
       "      <td>6.631579e+00</td>\n",
       "      <td>NaN</td>\n",
       "    </tr>\n",
       "    <tr>\n",
       "      <th>...</th>\n",
       "      <td>...</td>\n",
       "      <td>...</td>\n",
       "      <td>...</td>\n",
       "      <td>...</td>\n",
       "      <td>...</td>\n",
       "      <td>...</td>\n",
       "      <td>...</td>\n",
       "      <td>...</td>\n",
       "      <td>...</td>\n",
       "      <td>...</td>\n",
       "      <td>...</td>\n",
       "      <td>...</td>\n",
       "      <td>...</td>\n",
       "      <td>...</td>\n",
       "      <td>...</td>\n",
       "      <td>...</td>\n",
       "      <td>...</td>\n",
       "      <td>...</td>\n",
       "      <td>...</td>\n",
       "      <td>...</td>\n",
       "      <td>...</td>\n",
       "    </tr>\n",
       "    <tr>\n",
       "      <th>3760203</th>\n",
       "      <td>93428</td>\n",
       "      <td>20161230</td>\n",
       "      <td>1.250976e+06</td>\n",
       "      <td>1.595315</td>\n",
       "      <td>2.545028</td>\n",
       "      <td>-0.137348</td>\n",
       "      <td>14.916210</td>\n",
       "      <td>0.043201</td>\n",
       "      <td>0.016401</td>\n",
       "      <td>-0.001203</td>\n",
       "      <td>...</td>\n",
       "      <td>0.261325</td>\n",
       "      <td>6.0</td>\n",
       "      <td>0.029302</td>\n",
       "      <td>1.010214e-09</td>\n",
       "      <td>0.027604</td>\n",
       "      <td>0.017847</td>\n",
       "      <td>0.490189</td>\n",
       "      <td>5.347476</td>\n",
       "      <td>8.664791e-09</td>\n",
       "      <td>73.0</td>\n",
       "    </tr>\n",
       "    <tr>\n",
       "      <th>3760204</th>\n",
       "      <td>93429</td>\n",
       "      <td>20161230</td>\n",
       "      <td>5.600537e+06</td>\n",
       "      <td>0.298267</td>\n",
       "      <td>0.088963</td>\n",
       "      <td>0.206434</td>\n",
       "      <td>16.319190</td>\n",
       "      <td>0.026198</td>\n",
       "      <td>-0.071728</td>\n",
       "      <td>0.093973</td>\n",
       "      <td>...</td>\n",
       "      <td>0.169486</td>\n",
       "      <td>6.0</td>\n",
       "      <td>0.016001</td>\n",
       "      <td>1.093471e-10</td>\n",
       "      <td>0.040887</td>\n",
       "      <td>0.010437</td>\n",
       "      <td>0.539155</td>\n",
       "      <td>6.252920</td>\n",
       "      <td>8.275139e-09</td>\n",
       "      <td>62.0</td>\n",
       "    </tr>\n",
       "    <tr>\n",
       "      <th>3760205</th>\n",
       "      <td>93433</td>\n",
       "      <td>20161230</td>\n",
       "      <td>2.473625e+04</td>\n",
       "      <td>2.324893</td>\n",
       "      <td>5.405128</td>\n",
       "      <td>0.328248</td>\n",
       "      <td>9.975208</td>\n",
       "      <td>0.185537</td>\n",
       "      <td>-0.002451</td>\n",
       "      <td>0.279070</td>\n",
       "      <td>...</td>\n",
       "      <td>110.846951</td>\n",
       "      <td>2.0</td>\n",
       "      <td>0.149511</td>\n",
       "      <td>3.889972e-07</td>\n",
       "      <td>0.405473</td>\n",
       "      <td>0.137955</td>\n",
       "      <td>1.285707</td>\n",
       "      <td>29.078756</td>\n",
       "      <td>5.014198e-09</td>\n",
       "      <td>65.0</td>\n",
       "    </tr>\n",
       "    <tr>\n",
       "      <th>3760206</th>\n",
       "      <td>93434</td>\n",
       "      <td>20161230</td>\n",
       "      <td>8.573280e+04</td>\n",
       "      <td>0.628519</td>\n",
       "      <td>0.395036</td>\n",
       "      <td>0.020854</td>\n",
       "      <td>10.862196</td>\n",
       "      <td>0.059797</td>\n",
       "      <td>0.015187</td>\n",
       "      <td>-0.049505</td>\n",
       "      <td>...</td>\n",
       "      <td>0.860708</td>\n",
       "      <td>3.0</td>\n",
       "      <td>0.042877</td>\n",
       "      <td>8.576942e-08</td>\n",
       "      <td>0.031579</td>\n",
       "      <td>0.019838</td>\n",
       "      <td>0.629682</td>\n",
       "      <td>2.431419</td>\n",
       "      <td>3.518593e-08</td>\n",
       "      <td>1.0</td>\n",
       "    </tr>\n",
       "    <tr>\n",
       "      <th>3760207</th>\n",
       "      <td>93436</td>\n",
       "      <td>20161230</td>\n",
       "      <td>2.840318e+07</td>\n",
       "      <td>1.588092</td>\n",
       "      <td>2.522036</td>\n",
       "      <td>-0.121017</td>\n",
       "      <td>18.580861</td>\n",
       "      <td>0.049922</td>\n",
       "      <td>0.024821</td>\n",
       "      <td>-0.042128</td>\n",
       "      <td>...</td>\n",
       "      <td>0.895781</td>\n",
       "      <td>4.0</td>\n",
       "      <td>0.034094</td>\n",
       "      <td>1.853981e-11</td>\n",
       "      <td>0.036039</td>\n",
       "      <td>0.021170</td>\n",
       "      <td>0.307665</td>\n",
       "      <td>9.842282</td>\n",
       "      <td>3.159615e-09</td>\n",
       "      <td>37.0</td>\n",
       "    </tr>\n",
       "  </tbody>\n",
       "</table>\n",
       "<p>3760208 rows × 97 columns</p>\n",
       "</div>"
      ],
      "text/plain": [
       "         permno      DATE         mvel1      beta    betasq     chmom  \\\n",
       "0         10006  19570329  8.630850e+04  1.117907  1.249717  0.134574   \n",
       "1         10014  19570329  3.903375e+03  0.331304  0.109762  0.006667   \n",
       "2         10022  19570329  9.841000e+03  0.942052  0.887461  0.058761   \n",
       "3         10030  19570329  5.190100e+04  0.886532  0.785940 -0.032065   \n",
       "4         10057  19570329  3.525000e+04  1.229520  1.511719 -0.102811   \n",
       "...         ...       ...           ...       ...       ...       ...   \n",
       "3760203   93428  20161230  1.250976e+06  1.595315  2.545028 -0.137348   \n",
       "3760204   93429  20161230  5.600537e+06  0.298267  0.088963  0.206434   \n",
       "3760205   93433  20161230  2.473625e+04  2.324893  5.405128  0.328248   \n",
       "3760206   93434  20161230  8.573280e+04  0.628519  0.395036  0.020854   \n",
       "3760207   93436  20161230  2.840318e+07  1.588092  2.522036 -0.121017   \n",
       "\n",
       "            dolvol   idiovol    indmom     mom1m  ...       stdcf   ms  \\\n",
       "0        10.296745  0.024863  0.059540  0.002016  ...         NaN  NaN   \n",
       "1         7.032404  0.065248  0.059540 -0.086957  ...         NaN  NaN   \n",
       "2         7.294038  0.029338  0.059540 -0.037037  ...         NaN  NaN   \n",
       "3         9.516942  0.022007  0.059540  0.000000  ...         NaN  NaN   \n",
       "4         8.421013  0.025453  0.059540 -0.030717  ...         NaN  NaN   \n",
       "...            ...       ...       ...       ...  ...         ...  ...   \n",
       "3760203  14.916210  0.043201  0.016401 -0.001203  ...    0.261325  6.0   \n",
       "3760204  16.319190  0.026198 -0.071728  0.093973  ...    0.169486  6.0   \n",
       "3760205   9.975208  0.185537 -0.002451  0.279070  ...  110.846951  2.0   \n",
       "3760206  10.862196  0.059797  0.015187 -0.049505  ...    0.860708  3.0   \n",
       "3760207  18.580861  0.049922  0.024821 -0.042128  ...    0.895781  4.0   \n",
       "\n",
       "         baspread           ill    maxret    retvol  std_dolvol   std_turn  \\\n",
       "0        0.013856  1.557681e-07  0.029167  0.013546    0.914592   0.802461   \n",
       "1        0.031389  8.383815e-06  0.071429  0.031165    0.943409   0.716406   \n",
       "2        0.010066  5.360386e-06  0.020000  0.016886    0.993558   0.534808   \n",
       "3        0.009523  1.090908e-07  0.017857  0.009104    0.736000   0.712647   \n",
       "4        0.007661  2.386914e-07  0.007194  0.006748    0.889503   0.775954   \n",
       "...           ...           ...       ...       ...         ...        ...   \n",
       "3760203  0.029302  1.010214e-09  0.027604  0.017847    0.490189   5.347476   \n",
       "3760204  0.016001  1.093471e-10  0.040887  0.010437    0.539155   6.252920   \n",
       "3760205  0.149511  3.889972e-07  0.405473  0.137955    1.285707  29.078756   \n",
       "3760206  0.042877  8.576942e-08  0.031579  0.019838    0.629682   2.431419   \n",
       "3760207  0.034094  1.853981e-11  0.036039  0.021170    0.307665   9.842282   \n",
       "\n",
       "            zerotrade  sic2  \n",
       "0        1.066005e-07  37.0  \n",
       "1        1.105263e+00   NaN  \n",
       "2        2.387797e-07   NaN  \n",
       "3        9.202902e-08   NaN  \n",
       "4        6.631579e+00   NaN  \n",
       "...               ...   ...  \n",
       "3760203  8.664791e-09  73.0  \n",
       "3760204  8.275139e-09  62.0  \n",
       "3760205  5.014198e-09  65.0  \n",
       "3760206  3.518593e-08   1.0  \n",
       "3760207  3.159615e-09  37.0  \n",
       "\n",
       "[3760208 rows x 97 columns]"
      ]
     },
     "execution_count": 72,
     "metadata": {},
     "output_type": "execute_result"
    }
   ],
   "source": [
    "for d in "
   ]
  },
  {
   "cell_type": "code",
   "execution_count": 71,
   "metadata": {},
   "outputs": [
    {
     "data": {
      "text/html": [
       "<div>\n",
       "<style scoped>\n",
       "    .dataframe tbody tr th:only-of-type {\n",
       "        vertical-align: middle;\n",
       "    }\n",
       "\n",
       "    .dataframe tbody tr th {\n",
       "        vertical-align: top;\n",
       "    }\n",
       "\n",
       "    .dataframe thead th {\n",
       "        text-align: right;\n",
       "    }\n",
       "</style>\n",
       "<table border=\"1\" class=\"dataframe\">\n",
       "  <thead>\n",
       "    <tr style=\"text-align: right;\">\n",
       "      <th></th>\n",
       "      <th>permno</th>\n",
       "      <th>date</th>\n",
       "      <th>month</th>\n",
       "      <th>ret-rf</th>\n",
       "    </tr>\n",
       "  </thead>\n",
       "  <tbody>\n",
       "  </tbody>\n",
       "</table>\n",
       "</div>"
      ],
      "text/plain": [
       "Empty DataFrame\n",
       "Columns: [permno, date, month, ret-rf]\n",
       "Index: []"
      ]
     },
     "execution_count": 71,
     "metadata": {},
     "output_type": "execute_result"
    }
   ],
   "source": [
    "mon_return.loc[(mon_return['date'] == 19600930) & (mon_return['permno'] == 25507)]"
   ]
  },
  {
   "cell_type": "code",
   "execution_count": 69,
   "metadata": {},
   "outputs": [
    {
     "data": {
      "text/html": [
       "<div>\n",
       "<style scoped>\n",
       "    .dataframe tbody tr th:only-of-type {\n",
       "        vertical-align: middle;\n",
       "    }\n",
       "\n",
       "    .dataframe tbody tr th {\n",
       "        vertical-align: top;\n",
       "    }\n",
       "\n",
       "    .dataframe thead th {\n",
       "        text-align: right;\n",
       "    }\n",
       "</style>\n",
       "<table border=\"1\" class=\"dataframe\">\n",
       "  <thead>\n",
       "    <tr style=\"text-align: right;\">\n",
       "      <th></th>\n",
       "      <th>permno</th>\n",
       "      <th>DATE</th>\n",
       "      <th>mvel1</th>\n",
       "      <th>beta</th>\n",
       "      <th>betasq</th>\n",
       "      <th>chmom</th>\n",
       "      <th>dolvol</th>\n",
       "      <th>idiovol</th>\n",
       "      <th>indmom</th>\n",
       "      <th>mom1m</th>\n",
       "      <th>...</th>\n",
       "      <th>stdcf</th>\n",
       "      <th>ms</th>\n",
       "      <th>baspread</th>\n",
       "      <th>ill</th>\n",
       "      <th>maxret</th>\n",
       "      <th>retvol</th>\n",
       "      <th>std_dolvol</th>\n",
       "      <th>std_turn</th>\n",
       "      <th>zerotrade</th>\n",
       "      <th>sic2</th>\n",
       "    </tr>\n",
       "  </thead>\n",
       "  <tbody>\n",
       "    <tr>\n",
       "      <th>48171</th>\n",
       "      <td>25507</td>\n",
       "      <td>19600930</td>\n",
       "      <td>NaN</td>\n",
       "      <td>0.741312</td>\n",
       "      <td>0.549543</td>\n",
       "      <td>0.604304</td>\n",
       "      <td>10.080906</td>\n",
       "      <td>0.05099</td>\n",
       "      <td>-0.039526</td>\n",
       "      <td>0.08547</td>\n",
       "      <td>...</td>\n",
       "      <td>NaN</td>\n",
       "      <td>NaN</td>\n",
       "      <td>NaN</td>\n",
       "      <td>NaN</td>\n",
       "      <td>NaN</td>\n",
       "      <td>NaN</td>\n",
       "      <td>NaN</td>\n",
       "      <td>NaN</td>\n",
       "      <td>NaN</td>\n",
       "      <td>33.0</td>\n",
       "    </tr>\n",
       "  </tbody>\n",
       "</table>\n",
       "<p>1 rows × 97 columns</p>\n",
       "</div>"
      ],
      "text/plain": [
       "       permno      DATE  mvel1      beta    betasq     chmom     dolvol  \\\n",
       "48171   25507  19600930    NaN  0.741312  0.549543  0.604304  10.080906   \n",
       "\n",
       "       idiovol    indmom    mom1m  ...  stdcf  ms  baspread  ill  maxret  \\\n",
       "48171  0.05099 -0.039526  0.08547  ...    NaN NaN       NaN  NaN     NaN   \n",
       "\n",
       "       retvol  std_dolvol  std_turn  zerotrade  sic2  \n",
       "48171     NaN         NaN       NaN        NaN  33.0  \n",
       "\n",
       "[1 rows x 97 columns]"
      ]
     },
     "execution_count": 69,
     "metadata": {},
     "output_type": "execute_result"
    }
   ],
   "source": [
    "align_data.loc[(align_data['DATE'] == 19600930) & (align_data['permno'] == 25507)]"
   ]
  },
  {
   "cell_type": "code",
   "execution_count": 60,
   "metadata": {},
   "outputs": [
    {
     "data": {
      "text/plain": [
       "1115"
      ]
     },
     "execution_count": 60,
     "metadata": {},
     "output_type": "execute_result"
    }
   ],
   "source": []
  },
  {
   "cell_type": "code",
   "execution_count": 41,
   "metadata": {},
   "outputs": [],
   "source": [
    "mon_return = pd.read_csv('data/month_return.csv')"
   ]
  },
  {
   "cell_type": "code",
   "execution_count": 49,
   "metadata": {},
   "outputs": [
    {
     "data": {
      "text/plain": [
       "0          19570329\n",
       "1058       19570430\n",
       "2117       19570531\n",
       "3177       19570628\n",
       "4243       19570731\n",
       "             ...   \n",
       "3752114    20160831\n",
       "3757797    20160930\n",
       "3763452    20161031\n",
       "3769115    20161130\n",
       "3774780    20161230\n",
       "Name: date, Length: 718, dtype: int64"
      ]
     },
     "execution_count": 49,
     "metadata": {},
     "output_type": "execute_result"
    }
   ],
   "source": [
    "mon_return['date'].drop_duplicates()"
   ]
  },
  {
   "cell_type": "code",
   "execution_count": null,
   "metadata": {},
   "outputs": [],
   "source": [
    "datashare.permno.drop_duplicates()"
   ]
  },
  {
   "cell_type": "code",
   "execution_count": 33,
   "metadata": {},
   "outputs": [
    {
     "data": {
      "text/plain": [
       "Index(['permno', 'DATE', 'mvel1', 'beta', 'betasq', 'chmom', 'dolvol',\n",
       "       'idiovol', 'indmom', 'mom1m', 'mom6m', 'mom12m', 'mom36m', 'pricedelay',\n",
       "       'turn', 'absacc', 'acc', 'age', 'agr', 'bm', 'bm_ia', 'cashdebt',\n",
       "       'cashpr', 'cfp', 'cfp_ia', 'chatoia', 'chcsho', 'chempia', 'chinv',\n",
       "       'chpmia', 'convind', 'currat', 'depr', 'divi', 'divo', 'dy', 'egr',\n",
       "       'ep', 'gma', 'grcapx', 'grltnoa', 'herf', 'hire', 'invest', 'lev',\n",
       "       'lgr', 'mve_ia', 'operprof', 'orgcap', 'pchcapx_ia', 'pchcurrat',\n",
       "       'pchdepr', 'pchgm_pchsale', 'pchquick', 'pchsale_pchinvt',\n",
       "       'pchsale_pchrect', 'pchsale_pchxsga', 'pchsaleinv', 'pctacc', 'ps',\n",
       "       'quick', 'rd', 'rd_mve', 'rd_sale', 'realestate', 'roic', 'salecash',\n",
       "       'saleinv', 'salerec', 'secured', 'securedind', 'sgr', 'sin', 'sp',\n",
       "       'tang', 'tb', 'aeavol', 'cash', 'chtx', 'cinvest', 'ear', 'nincr',\n",
       "       'roaq', 'roavol', 'roeq', 'rsup', 'stdacc', 'stdcf', 'ms', 'baspread',\n",
       "       'ill', 'maxret', 'retvol', 'std_dolvol', 'std_turn', 'zerotrade',\n",
       "       'sic2'],\n",
       "      dtype='object')"
      ]
     },
     "execution_count": 33,
     "metadata": {},
     "output_type": "execute_result"
    }
   ],
   "source": [
    "datashare.columns"
   ]
  },
  {
   "cell_type": "code",
   "execution_count": 25,
   "metadata": {},
   "outputs": [],
   "source": [
    "annual_chara = {\n",
    "    'absacc': 1, 'acc': 2, 'age': 4, 'agr': 5, 'bm': 9,\n",
    "    'bm_ia': 10, 'cashdebt': 12, 'cashpr': 13, 'cfp': 14, 'cfp_ia': 15,  \n",
    "    'chatoia': 16, 'chcsho': 17, 'chempia': 18, 'chinv': 19, 'chpmia': 21,\n",
    "    'convind': 24, 'currat': 25, 'depr': 26, 'divi': 27, 'divo': 28,\n",
    "    'dy': 30, 'egr': 32, 'ep': 33, 'gma': 34, 'grcapx': 35,\n",
    "    'grltnoa': 36, 'herf': 37, 'hire': 38, 'invest': 42, 'lev': 43,\n",
    "    'lgr': 44, 'mve_ia': 52, 'operprof': 54, 'orgcap': 55, 'pchcapx_ia': 56,\n",
    "    'pchcurrat': 57, 'pchdepr': 58, 'pchgm_pchsale': 59, 'pchquick': 60, 'pchsale_pchinvt': 61,\n",
    "    'pchsale_pchrect': 62, 'pchsale_pchxsga': 63, 'pchsaleinv': 64, 'pctacc': 65, 'ps': 67, \n",
    "    'quick': 68, 'rd': 69, 'rd_mve': 70, 'rd_sale': 71, 'realestate': 72, \n",
    "    'roic': 77, 'salecash': 79, 'saleinv': 80, 'salerec': 81, 'secured': 82, \n",
    "    'securedind': 83, 'sgr': 84, 'sin': 85, 'sp': 86, 'tang': 91, 'tb': 92\n",
    "}"
   ]
  },
  {
   "cell_type": "code",
   "execution_count": 23,
   "metadata": {},
   "outputs": [
    {
     "data": {
      "text/plain": [
       "57"
      ]
     },
     "execution_count": 23,
     "metadata": {},
     "output_type": "execute_result"
    }
   ],
   "source": [
    "annual_chara['pchurrat']"
   ]
  },
  {
   "cell_type": "code",
   "execution_count": 21,
   "metadata": {},
   "outputs": [
    {
     "data": {
      "text/plain": [
       "Index(['permno', 'DATE', 'mvel1', 'beta', 'betasq', 'chmom', 'dolvol',\n",
       "       'idiovol', 'indmom', 'mom1m', 'mom6m', 'mom12m', 'mom36m', 'pricedelay',\n",
       "       'turn', 'absacc', 'acc', 'age', 'agr', 'bm', 'bm_ia', 'cashdebt',\n",
       "       'cashpr', 'cfp', 'cfp_ia', 'chatoia', 'chcsho', 'chempia', 'chinv',\n",
       "       'chpmia', 'convind', 'currat', 'depr', 'divi', 'divo', 'dy', 'egr',\n",
       "       'ep', 'gma', 'grcapx', 'grltnoa', 'herf', 'hire', 'invest', 'lev',\n",
       "       'lgr', 'mve_ia', 'operprof', 'orgcap', 'pchcapx_ia', 'pchcurrat',\n",
       "       'pchdepr', 'pchgm_pchsale', 'pchquick', 'pchsale_pchinvt',\n",
       "       'pchsale_pchrect', 'pchsale_pchxsga', 'pchsaleinv', 'pctacc', 'ps',\n",
       "       'quick', 'rd', 'rd_mve', 'rd_sale', 'realestate', 'roic', 'salecash',\n",
       "       'saleinv', 'salerec', 'secured', 'securedind', 'sgr', 'sin', 'sp',\n",
       "       'tang', 'tb', 'aeavol', 'cash', 'chtx', 'cinvest', 'ear', 'nincr',\n",
       "       'roaq', 'roavol', 'roeq', 'rsup', 'stdacc', 'stdcf', 'ms', 'baspread',\n",
       "       'ill', 'maxret', 'retvol', 'std_dolvol', 'std_turn', 'zerotrade',\n",
       "       'sic2'],\n",
       "      dtype='object')"
      ]
     },
     "execution_count": 21,
     "metadata": {},
     "output_type": "execute_result"
    }
   ],
   "source": [
    "datashare.columns"
   ]
  },
  {
   "cell_type": "code",
   "execution_count": 34,
   "metadata": {},
   "outputs": [
    {
     "name": "stdout",
     "output_type": "stream",
     "text": [
      "permno\n",
      "DATE\n",
      "sic2\n"
     ]
    }
   ],
   "source": [
    "for chr in datashare.columns:\n",
    "    if chr not in list(annual_chara.keys()) + list(quarter_chara.keys()) + list(month_chara.keys()):\n",
    "        print(chr)"
   ]
  },
  {
   "cell_type": "code",
   "execution_count": 10,
   "metadata": {},
   "outputs": [],
   "source": [
    "quarter_chara = {\n",
    "    'aeavol': 3,\n",
    "    'cash': 11,\n",
    "    'chtx': 22,\n",
    "    'cinvest': 23,\n",
    "    'ear': 31,\n",
    "    'ms': 50,\n",
    "    'nincr': 53,\n",
    "    'roaq': 74,\n",
    "    'roavol': 75,\n",
    "    'roeq': 76,\n",
    "    'rsup': 78,\n",
    "    'stdacc': 89,\n",
    "    'stdcf': 90\n",
    "}"
   ]
  },
  {
   "cell_type": "code",
   "execution_count": 11,
   "metadata": {},
   "outputs": [
    {
     "data": {
      "text/plain": [
       "13"
      ]
     },
     "execution_count": 11,
     "metadata": {},
     "output_type": "execute_result"
    }
   ],
   "source": [
    "len(quarter_chara)"
   ]
  },
  {
   "cell_type": "code",
   "execution_count": 12,
   "metadata": {},
   "outputs": [],
   "source": [
    "month_chara = {\n",
    "    'baspread': 6,\n",
    "    'beta': 7,\n",
    "    'betasq': 8,\n",
    "    'chmom': 20,\n",
    "    'dolvol': 29,\n",
    "    'idiovol': 39,\n",
    "    'ill': 40,\n",
    "    'indmom': 41,\n",
    "    'maxret': 45,\n",
    "    'mom12m': 46,\n",
    "    'mom1m': 47,\n",
    "    'mom36m': 48,\n",
    "    'mom6m': 49,\n",
    "    'mvel1': 51,\n",
    "    'pricedelay': 66,\n",
    "    'retvol': 73,\n",
    "    'std_dolvol': 87,\n",
    "    'std_turn': 88,\n",
    "    'turn': 93,\n",
    "    'zerotrade': 94\n",
    "}"
   ]
  },
  {
   "cell_type": "code",
   "execution_count": 13,
   "metadata": {},
   "outputs": [
    {
     "data": {
      "text/plain": [
       "20"
      ]
     },
     "execution_count": 13,
     "metadata": {},
     "output_type": "execute_result"
    }
   ],
   "source": [
    "len(month_chara)"
   ]
  },
  {
   "cell_type": "code",
   "execution_count": null,
   "metadata": {},
   "outputs": [],
   "source": []
  }
 ],
 "metadata": {
  "kernelspec": {
   "display_name": "myconda",
   "language": "python",
   "name": "python3"
  },
  "language_info": {
   "codemirror_mode": {
    "name": "ipython",
    "version": 3
   },
   "file_extension": ".py",
   "mimetype": "text/x-python",
   "name": "python",
   "nbconvert_exporter": "python",
   "pygments_lexer": "ipython3",
   "version": "3.8.12"
  },
  "orig_nbformat": 4
 },
 "nbformat": 4,
 "nbformat_minor": 2
}
