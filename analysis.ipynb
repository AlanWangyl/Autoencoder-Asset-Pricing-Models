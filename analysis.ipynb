{
 "cells": [
  {
   "cell_type": "code",
   "execution_count": 2,
   "metadata": {},
   "outputs": [],
   "source": [
    "import pandas as pd\n",
    "import numpy as np\n",
    "from utils import charas\n",
    "import matplotlib.pyplot as plt\n",
    "\n",
    "import warnings\n",
    "warnings.filterwarnings('ignore')"
   ]
  },
  {
   "cell_type": "code",
   "execution_count": 3,
   "metadata": {},
   "outputs": [],
   "source": [
    "OOS_start = 19870101\n",
    "OOS_end = 20161231\n",
    "\n",
    "def calculate_R2(model, type, portfolio = True):\n",
    "    if portfolio:\n",
    "        portfolio_ret = pd.read_pickle('data/portfolio_ret.pkl')\n",
    "    else:\n",
    "        raise Exception('Unrealized Function')\n",
    "    oos_ret = portfolio_ret.loc[(portfolio_ret['DATE'] >= OOS_start) & (portfolio_ret['DATE'] <= OOS_end)]\n",
    "    \n",
    "    output_path = f'results/{type}/{model}_{type}.csv'\n",
    "    model_output = pd.read_csv(output_path)\n",
    "    \n",
    "    residual_square = (oos_ret.set_index('DATE') - model_output.set_index('DATE'))**2\n",
    "    residual_square = (1 - (residual_square == np.inf) * 1.0) * residual_square # drop Inf outliers\n",
    "    \n",
    "    total_square = oos_ret.set_index('DATE')**2\n",
    "    total_square = (1 - (total_square == np.inf) * 1.0) * total_square # drop Inf outliers\n",
    "    \n",
    "    return 1 - np.sum(residual_square.values)/np.sum(total_square.values)"
   ]
  },
  {
   "cell_type": "code",
   "execution_count": 3,
   "metadata": {},
   "outputs": [
    {
     "data": {
      "text/plain": [
       "0.8437256192223954"
      ]
     },
     "execution_count": 3,
     "metadata": {},
     "output_type": "execute_result"
    }
   ],
   "source": [
    "calculate_R2('PCA_6', 'inference')"
   ]
  },
  {
   "cell_type": "code",
   "execution_count": 4,
   "metadata": {},
   "outputs": [
    {
     "data": {
      "text/plain": [
       "0.10434211289898665"
      ]
     },
     "execution_count": 4,
     "metadata": {},
     "output_type": "execute_result"
    }
   ],
   "source": [
    "calculate_R2('FF_1', 'inference')"
   ]
  },
  {
   "cell_type": "code",
   "execution_count": 5,
   "metadata": {},
   "outputs": [],
   "source": [
    "def alpha_plot(model, type, portfolio = True):\n",
    "    if not portfolio:\n",
    "        raise Exception('Unrealized Function')\n",
    "    \n",
    "    portfolio_ret = pd.read_pickle('data/portfolio_ret.pkl')\n",
    "    oos_result = portfolio_ret.loc[(portfolio_ret['DATE'] >= OOS_start) & (portfolio_ret['DATE'] <= OOS_end)].set_index('DATE')\n",
    "    \n",
    "    output_path = f'results/{type}/{model}_{type}.csv'\n",
    "    inference_result = pd.read_csv(output_path)\n",
    "    inference_result = inference_result.set_index('DATE')\n",
    "    \n",
    "    \n",
    "    pricing_error_analysis = []\n",
    "    for col in charas:\n",
    "        raw_return = oos_result[col].mean()\n",
    "        error = oos_result[col] - inference_result[col]\n",
    "        alpha = error.mean()\n",
    "        t_stat = abs(error.mean()/error.std()) * np.sqrt(oos_result.shape[0])\n",
    "        pricing_error_analysis.append([raw_return, alpha, t_stat])\n",
    "\n",
    "    pricing_error_analysis = pd.DataFrame(pricing_error_analysis, columns = ['raw ret', 'alpha', 't_stat'], index=charas)\n",
    "    \n",
    "    lower_point = min(np.min(pricing_error_analysis['raw ret']), np.min(pricing_error_analysis['alpha'])) * 1.15\n",
    "    upper_point = max(np.max(pricing_error_analysis['raw ret']), np.max(pricing_error_analysis['alpha'])) * 1.15\n",
    "\n",
    "    significant_mask = pricing_error_analysis['t_stat'] > 3\n",
    "\n",
    "    plt.scatter(pricing_error_analysis.loc[significant_mask]['raw ret'], pricing_error_analysis.loc[significant_mask]['alpha'], marker='^', color='r', alpha=0.6, label=f'#Alphas(t>3.0)={np.sum(significant_mask*1.0)}')\n",
    "    plt.scatter(pricing_error_analysis.loc[~significant_mask]['raw ret'], pricing_error_analysis.loc[~significant_mask]['alpha'], marker='o', color='b', alpha=0.6, label=f'#Alphas(t<3.0)={94-np.sum(significant_mask*1.0)}')\n",
    "    plt.plot(np.linspace(lower_point, upper_point, 10), np.linspace(lower_point, upper_point, 10), color='black')\n",
    "\n",
    "    plt.ylabel('Alpha')\n",
    "    plt.xlabel('Raw Return')\n",
    "    plt.legend()\n",
    "\n",
    "    plt.title(model)\n",
    "    plt.show()"
   ]
  },
  {
   "cell_type": "code",
   "execution_count": 5,
   "metadata": {},
   "outputs": [
    {
     "data": {
      "image/png": "[encoded data removed]",
      "text/plain": [
       "<Figure size 432x288 with 1 Axes>"
      ]
     },
     "metadata": {
      "needs_background": "light"
     },
     "output_type": "display_data"
    }
   ],
   "source": [
    "alpha_plot('PCA_6', 'inference')"
   ]
  },
  {
   "cell_type": "code",
   "execution_count": 7,
   "metadata": {},
   "outputs": [],
   "source": [
    "alpha_plot('FF_1', 'inference')"
   ]
  },
  {
   "cell_type": "code",
   "execution_count": null,
   "metadata": {},
   "outputs": [],
   "source": []
  }
 ],
 "metadata": {
  "kernelspec": {
   "display_name": "myconda",
   "language": "python",
   "name": "python3"
  },
  "language_info": {
   "codemirror_mode": {
    "name": "ipython",
    "version": 3
   },
   "file_extension": ".py",
   "mimetype": "text/x-python",
   "name": "python",
   "nbconvert_exporter": "python",
   "pygments_lexer": "ipython3",
   "version": "3.8.12"
  },
  "orig_nbformat": 4
 },
 "nbformat": 4,
 "nbformat_minor": 2
}
