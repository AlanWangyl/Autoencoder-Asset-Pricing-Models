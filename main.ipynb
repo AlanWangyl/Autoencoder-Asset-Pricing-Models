{
 "cells": [
  {
   "cell_type": "code",
   "execution_count": 212,
   "metadata": {},
   "outputs": [],
   "source": [
    "from models.PCA import PCA\n",
    "import pandas as pd\n",
    "import numpy as np\n",
    "from tqdm import tqdm\n",
    "from utils import charas\n",
    "import matplotlib.pyplot as plt\n",
    "\n",
    "import warnings\n",
    "warnings.filterwarnings('ignore')"
   ]
  },
  {
   "cell_type": "code",
   "execution_count": 232,
   "metadata": {},
   "outputs": [],
   "source": [
    "mon_list = pd.read_pickle('data/mon_list.pkl')"
   ]
  },
  {
   "cell_type": "code",
   "execution_count": 233,
   "metadata": {},
   "outputs": [
    {
     "data": {
      "text/plain": [
       "0      19570329\n",
       "1      19570430\n",
       "2      19570531\n",
       "3      19570628\n",
       "4      19570731\n",
       "         ...   \n",
       "713    20160831\n",
       "714    20160930\n",
       "715    20161031\n",
       "716    20161130\n",
       "717    20161230\n",
       "Name: DATE, Length: 718, dtype: int64"
      ]
     },
     "execution_count": 233,
     "metadata": {},
     "output_type": "execute_result"
    }
   ],
   "source": [
    "mon_list"
   ]
  },
  {
   "cell_type": "code",
   "execution_count": 234,
   "metadata": {},
   "outputs": [],
   "source": [
    "def model_inference_and_predict(model):\n",
    "    mon_list = pd.read_pickle('data/mon_list.pkl')\n",
    "    test_mons = mon_list.loc[mon_list >= model.test_period[0]]\n",
    "    inference_result = []\n",
    "    predict_result = []\n",
    "    T_bar = tqdm(test_mons.groupby(test_mons.apply(lambda x: x//10000)), colour='red', desc=f'{model.name} Inferencing & Predicting')\n",
    "    \n",
    "    for g in T_bar: # rolling train\n",
    "        T_bar.set_postfix({'Year': g[0]})\n",
    "        model.train_model()\n",
    "        \n",
    "        for m in g[1].to_list():\n",
    "            inference_result.append(model.inference(m))\n",
    "            predict_result.append(model.predict(m))\n",
    "        # model refit (change train period and valid period)\n",
    "        model.refit()\n",
    "\n",
    "    inference_result = pd.DataFrame(inference_result, index=test_mons, columns=charas)\n",
    "    inference_result.to_csv(f'results/inference/{model.name}_inference.csv')\n",
    "    \n",
    "    predict_result = pd.DataFrame(predict_result, index=test_mons, columns=charas)\n",
    "    predict_result.to_csv(f'results/predict/{model.name}_predict.csv')"
   ]
  },
  {
   "cell_type": "code",
   "execution_count": 235,
   "metadata": {},
   "outputs": [],
   "source": [
    "pca_1 = PCA(K=1, portfolio=True)\n",
    "pca_2 = PCA(K=2, portfolio=True)\n",
    "pca_3 = PCA(K=3, portfolio=True)\n",
    "pca_4 = PCA(K=4, portfolio=True)\n",
    "pca_5 = PCA(K=5, portfolio=True)\n",
    "pca_6 = PCA(K=6, portfolio=True)"
   ]
  },
  {
   "cell_type": "code",
   "execution_count": 236,
   "metadata": {},
   "outputs": [
    {
     "name": "stderr",
     "output_type": "stream",
     "text": [
      "PCA_1 Inferencing & Predicting:   0%|\u001b[31m          \u001b[0m| 0/30 [00:00<?, ?it/s, Year=1987]\n"
     ]
    },
    {
     "ename": "AttributeError",
     "evalue": "'PCA' object has no attribute 'train_model'",
     "output_type": "error",
     "traceback": [
      "\u001b[0;31m---------------------------------------------------------------------------\u001b[0m",
      "\u001b[0;31mAttributeError\u001b[0m                            Traceback (most recent call last)",
      "\u001b[0;32m/tmp/ipykernel_10514/1470434778.py\u001b[0m in \u001b[0;36m<cell line: 1>\u001b[0;34m()\u001b[0m\n\u001b[0;32m----> 1\u001b[0;31m \u001b[0mmodel_inference_and_predict\u001b[0m\u001b[0;34m(\u001b[0m\u001b[0mpca_1\u001b[0m\u001b[0;34m)\u001b[0m\u001b[0;34m\u001b[0m\u001b[0;34m\u001b[0m\u001b[0m\n\u001b[0m\u001b[1;32m      2\u001b[0m \u001b[0;31m# model_inference_and_predict(pca_2)\u001b[0m\u001b[0;34m\u001b[0m\u001b[0;34m\u001b[0m\u001b[0;34m\u001b[0m\u001b[0m\n\u001b[1;32m      3\u001b[0m \u001b[0;31m# model_inference_and_predict(pca_3)\u001b[0m\u001b[0;34m\u001b[0m\u001b[0;34m\u001b[0m\u001b[0;34m\u001b[0m\u001b[0m\n\u001b[1;32m      4\u001b[0m \u001b[0;31m# model_inference_and_predict(pca_4)\u001b[0m\u001b[0;34m\u001b[0m\u001b[0;34m\u001b[0m\u001b[0;34m\u001b[0m\u001b[0m\n\u001b[1;32m      5\u001b[0m \u001b[0;31m# model_inference_and_predict(pca_5)\u001b[0m\u001b[0;34m\u001b[0m\u001b[0;34m\u001b[0m\u001b[0;34m\u001b[0m\u001b[0m\n",
      "\u001b[0;32m/tmp/ipykernel_10514/4147791557.py\u001b[0m in \u001b[0;36mmodel_inference_and_predict\u001b[0;34m(model)\u001b[0m\n\u001b[1;32m      8\u001b[0m     \u001b[0;32mfor\u001b[0m \u001b[0mg\u001b[0m \u001b[0;32min\u001b[0m \u001b[0mT_bar\u001b[0m\u001b[0;34m:\u001b[0m \u001b[0;31m# rolling train\u001b[0m\u001b[0;34m\u001b[0m\u001b[0;34m\u001b[0m\u001b[0m\n\u001b[1;32m      9\u001b[0m         \u001b[0mT_bar\u001b[0m\u001b[0;34m.\u001b[0m\u001b[0mset_postfix\u001b[0m\u001b[0;34m(\u001b[0m\u001b[0;34m{\u001b[0m\u001b[0;34m'Year'\u001b[0m\u001b[0;34m:\u001b[0m \u001b[0mg\u001b[0m\u001b[0;34m[\u001b[0m\u001b[0;36m0\u001b[0m\u001b[0;34m]\u001b[0m\u001b[0;34m}\u001b[0m\u001b[0;34m)\u001b[0m\u001b[0;34m\u001b[0m\u001b[0;34m\u001b[0m\u001b[0m\n\u001b[0;32m---> 10\u001b[0;31m         \u001b[0mmodel\u001b[0m\u001b[0;34m.\u001b[0m\u001b[0mtrain_model\u001b[0m\u001b[0;34m(\u001b[0m\u001b[0;34m)\u001b[0m\u001b[0;34m\u001b[0m\u001b[0;34m\u001b[0m\u001b[0m\n\u001b[0m\u001b[1;32m     11\u001b[0m \u001b[0;34m\u001b[0m\u001b[0m\n\u001b[1;32m     12\u001b[0m         \u001b[0;32mfor\u001b[0m \u001b[0mm\u001b[0m \u001b[0;32min\u001b[0m \u001b[0mg\u001b[0m\u001b[0;34m[\u001b[0m\u001b[0;36m1\u001b[0m\u001b[0;34m]\u001b[0m\u001b[0;34m.\u001b[0m\u001b[0mto_list\u001b[0m\u001b[0;34m(\u001b[0m\u001b[0;34m)\u001b[0m\u001b[0;34m:\u001b[0m\u001b[0;34m\u001b[0m\u001b[0;34m\u001b[0m\u001b[0m\n",
      "\u001b[0;31mAttributeError\u001b[0m: 'PCA' object has no attribute 'train_model'"
     ]
    }
   ],
   "source": [
    "model_inference_and_predict(pca_1)\n",
    "# model_inference_and_predict(pca_2)\n",
    "# model_inference_and_predict(pca_3)\n",
    "# model_inference_and_predict(pca_4)\n",
    "# model_inference_and_predict(pca_5)\n",
    "# model_inference_and_predict(pca_6)"
   ]
  },
  {
   "cell_type": "code",
   "execution_count": null,
   "metadata": {},
   "outputs": [],
   "source": [
    "(30 * 12) * N"
   ]
  },
  {
   "cell_type": "code",
   "execution_count": null,
   "metadata": {},
   "outputs": [],
   "source": [
    "def model_inference_and_predict_CA(model):\n",
    "    mon_list = pd.read_pickle('data/mon_list.pkl')\n",
    "    test_mons = mon_list.loc[mon_list >= model.test_period[0]]\n",
    "    inference_result = []\n",
    "    predict_result = []\n",
    "    T_bar = tqdm(test_mons.groupby(test_mons.apply(lambda x: x//10000)), colour='red', desc=f'{model.name} Inferencing & Predicting')\n",
    "    \n",
    "    for g in T_bar: # rolling train\n",
    "        T_bar.set_postfix({'Year': g[0]})\n",
    "        model.train_model()\n",
    "        \n",
    "        for m in g[1].to_list():\n",
    "            stock_index = \n",
    "            inference_result.append(model.inference(m))\n",
    "            predict_result.append(model.predict(m))\n",
    "        # model refit (change train period and valid period)\n",
    "        model.refit()\n",
    "\n",
    "    inference_result = pd.DataFrame(inference_result, index=test_mons, columns=charas)\n",
    "    inference_result.to_csv(f'results/inference/{model.name}_inference.csv')\n",
    "    \n",
    "    predict_result = pd.DataFrame(predict_result, index=test_mons, columns=charas)\n",
    "    predict_result.to_csv(f'results/predict/{model.name}_predict.csv')"
   ]
  },
  {
   "cell_type": "code",
   "execution_count": null,
   "metadata": {},
   "outputs": [],
   "source": [
    "cal_delayed_fator(month):\n",
    "    \n",
    "last_mon = int(str(pd.to_datetime(str(month)) - relativedelta(months=1)).split(' ')[0].replace('-', ''))\n",
    "\n",
    "_get_itme(last_mon) => fator_nn_input\n",
    "\n",
    "=> self.factor_nn(fator_nn_input)"
   ]
  },
  {
   "cell_type": "code",
   "execution_count": null,
   "metadata": {},
   "outputs": [],
   "source": []
  }
 ],
 "metadata": {
  "kernelspec": {
   "display_name": "myconda",
   "language": "python",
   "name": "python3"
  },
  "language_info": {
   "codemirror_mode": {
    "name": "ipython",
    "version": 3
   },
   "file_extension": ".py",
   "mimetype": "text/x-python",
   "name": "python",
   "nbconvert_exporter": "python",
   "pygments_lexer": "ipython3",
   "version": "3.8.12"
  },
  "orig_nbformat": 4
 },
 "nbformat": 4,
 "nbformat_minor": 2
}
