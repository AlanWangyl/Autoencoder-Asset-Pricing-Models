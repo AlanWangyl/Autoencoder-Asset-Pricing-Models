{
 "cells": [
  {
   "cell_type": "code",
   "execution_count": 212,
   "metadata": {},
   "outputs": [],
   "source": [
    "from models.PCA import PCA\n",
    "import pandas as pd\n",
    "import numpy as np\n",
    "from tqdm import tqdm\n",
    "from utils import charas\n",
    "import matplotlib.pyplot as plt\n",
    "\n",
    "import warnings\n",
    "warnings.filterwarnings('ignore')"
   ]
  },
  {
   "cell_type": "code",
   "execution_count": 5,
   "metadata": {},
   "outputs": [],
   "source": [
    "def model_inference_and_predict(model):\n",
    "    mon_list = pd.read_pickle('data/mon_list.pkl')\n",
    "    test_mons = mon_list.loc[mon_list >= model.test_period[0]]\n",
    "    inference_result = []\n",
    "    predict_result = []\n",
    "    T_bar = tqdm(test_mons.groupby(test_mons.apply(lambda x: x//10000)), colour='red', desc=f'{model.name} Inferencing & Predicting')\n",
    "    \n",
    "    for g in T_bar: # rolling train\n",
    "        T_bar.set_postfix({'Year': g[0]})\n",
    "        model.train_model()\n",
    "        \n",
    "        for m in g[1].to_list():\n",
    "            inference_result.append(model.inference(m))\n",
    "            predict_result.append(model.predict(m))\n",
    "        # model refit (change train period and valid period)\n",
    "        model.refit()\n",
    "\n",
    "    inference_result = pd.DataFrame(inference_result, index=test_mons, columns=charas)\n",
    "    inference_result.to_csv(f'results/inference/{model.name}_inference.csv')\n",
    "    \n",
    "    predict_result = pd.DataFrame(predict_result, index=test_mons, columns=charas)\n",
    "    predict_result.to_csv(f'results/predict/{model.name}_predict.csv')"
   ]
  },
  {
   "cell_type": "code",
   "execution_count": 18,
   "metadata": {},
   "outputs": [],
   "source": [
    "pca_1 = PCA(K=1, portfolio=True)\n",
    "pca_2 = PCA(K=2, portfolio=True)\n",
    "pca_3 = PCA(K=3, portfolio=True)\n",
    "pca_4 = PCA(K=4, portfolio=True)\n",
    "pca_5 = PCA(K=5, portfolio=True)\n",
    "pca_6 = PCA(K=6, portfolio=True)"
   ]
  },
  {
   "cell_type": "code",
   "execution_count": 12,
   "metadata": {},
   "outputs": [
    {
     "name": "stderr",
     "output_type": "stream",
     "text": [
      "PCA_1 Inferencing & Predicting: 100%|\u001b[31m██████████\u001b[0m| 30/30 [00:24<00:00,  1.23it/s, Year=2016]\n",
      "PCA_2 Inferencing & Predicting: 100%|\u001b[31m██████████\u001b[0m| 30/30 [00:24<00:00,  1.23it/s, Year=2016]\n",
      "PCA_3 Inferencing & Predicting: 100%|\u001b[31m██████████\u001b[0m| 30/30 [00:23<00:00,  1.27it/s, Year=2016]\n",
      "PCA_4 Inferencing & Predicting: 100%|\u001b[31m██████████\u001b[0m| 30/30 [00:26<00:00,  1.15it/s, Year=2016]\n",
      "PCA_5 Inferencing & Predicting: 100%|\u001b[31m██████████\u001b[0m| 30/30 [00:23<00:00,  1.28it/s, Year=2016]\n",
      "PCA_6 Inferencing & Predicting: 100%|\u001b[31m██████████\u001b[0m| 30/30 [00:23<00:00,  1.27it/s, Year=2016]\n"
     ]
    }
   ],
   "source": [
    "model_inference_and_predict(pca_1)\n",
    "model_inference_and_predict(pca_2)\n",
    "model_inference_and_predict(pca_3)\n",
    "model_inference_and_predict(pca_4)\n",
    "model_inference_and_predict(pca_5)\n",
    "model_inference_and_predict(pca_6)"
   ]
  }
 ],
 "metadata": {
  "kernelspec": {
   "display_name": "myconda",
   "language": "python",
   "name": "python3"
  },
  "language_info": {
   "codemirror_mode": {
    "name": "ipython",
    "version": 3
   },
   "file_extension": ".py",
   "mimetype": "text/x-python",
   "name": "python",
   "nbconvert_exporter": "python",
   "pygments_lexer": "ipython3",
   "version": "3.8.12"
  },
  "orig_nbformat": 4
 },
 "nbformat": 4,
 "nbformat_minor": 2
}
