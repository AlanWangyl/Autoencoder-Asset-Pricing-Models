{
 "cells": [
  {
   "cell_type": "code",
   "execution_count": 1,
   "metadata": {},
   "outputs": [],
   "source": [
    "from models.PCA import PCA\n",
    "from models.FF import FF\n",
    "\n",
    "import pandas as pd\n",
    "import numpy as np\n",
    "from tqdm import tqdm\n",
    "from utils import charas\n",
    "import matplotlib.pyplot as plt\n",
    "\n",
    "import warnings\n",
    "warnings.filterwarnings('ignore')"
   ]
  },
  {
   "cell_type": "code",
   "execution_count": null,
   "metadata": {},
   "outputs": [],
   "source": [
    "def model_inference_and_predict(model):\n",
    "    mon_list = pd.read_pickle('data/mon_list.pkl')\n",
    "    test_mons = mon_list.loc[mon_list >= model.test_period[0]]\n",
    "    inference_result = []\n",
    "    predict_result = []\n",
    "    T_bar = tqdm(test_mons.groupby(test_mons.apply(lambda x: x//10000)), colour='red', desc=f'{model.name} Inferencing & Predicting')\n",
    "    \n",
    "    for g in T_bar: # rolling train\n",
    "        T_bar.set_postfix({'Year': g[0]})\n",
    "        model.train_model()\n",
    "        \n",
    "        for m in g[1].to_list():\n",
    "            inference_result.append(model.inference(m))\n",
    "            predict_result.append(model.predict(m))\n",
    "        # model refit (change train period and valid period)\n",
    "        model.refit()\n",
    "\n",
    "    inference_result = pd.DataFrame(inference_result, index=test_mons, columns=charas)\n",
    "    inference_result.to_csv(f'results/inference/{model.name}_inference.csv')\n",
    "    \n",
    "    predict_result = pd.DataFrame(predict_result, index=test_mons, columns=charas)\n",
    "    predict_result.to_csv(f'results/predict/{model.name}_predict.csv')"
   ]
  },
  {
   "cell_type": "code",
   "execution_count": null,
   "metadata": {},
   "outputs": [],
   "source": [
    "pca_1 = PCA(K=1, portfolio=True)\n",
    "pca_2 = PCA(K=2, portfolio=True)\n",
    "pca_3 = PCA(K=3, portfolio=True)\n",
    "pca_4 = PCA(K=4, portfolio=True)\n",
    "pca_5 = PCA(K=5, portfolio=True)\n",
    "pca_6 = PCA(K=6, portfolio=True)"
   ]
  },
  {
   "cell_type": "code",
   "execution_count": null,
   "metadata": {},
   "outputs": [],
   "source": [
    "model_inference_and_predict(pca_1)\n",
    "# model_inference_and_predict(pca_2)\n",
    "# model_inference_and_predict(pca_3)\n",
    "# model_inference_and_predict(pca_4)\n",
    "# model_inference_and_predict(pca_5)\n",
    "# model_inference_and_predict(pca_6)"
   ]
  },
  {
   "cell_type": "code",
   "execution_count": null,
   "metadata": {},
   "outputs": [],
   "source": [
    "ff_1 = FF(K=1, portfolio=True)\n",
    "ff_2 = FF(K=2, portfolio=True)\n",
    "ff_3 = FF(K=3, portfolio=True)\n",
    "ff_4 = FF(K=4, portfolio=True)\n",
    "ff_5 = FF(K=5, portfolio=True)\n",
    "ff_6 = FF(K=6, portfolio=True)"
   ]
  },
  {
   "cell_type": "code",
   "execution_count": null,
   "metadata": {},
   "outputs": [],
   "source": [
    "model_inference_and_predict(ff_1)\n",
    "model_inference_and_predict(ff_2)\n",
    "model_inference_and_predict(ff_3)\n",
    "model_inference_and_predict(ff_4)\n",
    "model_inference_and_predict(ff_5)\n",
    "model_inference_and_predict(ff_6)"
   ]
  },
  {
   "cell_type": "code",
   "execution_count": 5,
   "metadata": {},
   "outputs": [],
   "source": [
    "def model_inference_and_predict_CA(model):\n",
    "    mon_list = pd.read_pickle('data/mon_list.pkl')\n",
    "    test_mons = mon_list.loc[mon_list >= model.test_period[0]]\n",
    "    inference_result = pd.DataFrame()\n",
    "    predict_result = pd.DataFrame()\n",
    "    T_bar = tqdm(test_mons.groupby(test_mons.apply(lambda x: x//10000)), colour='red', desc=f'{model.name} Inferencing & Predicting')\n",
    "    \n",
    "    stock_index = pd.Series(dtype=np.int64)\n",
    "    for g in T_bar: # rolling train\n",
    "        T_bar.set_postfix({'Year': g[0]})\n",
    "        model.train_model()\n",
    "        \n",
    "        for m in g[1].to_list():\n",
    "            m_stock_index, _, _, _ = model._get_item(m)\n",
    "            stock_index = pd.concat([stock_index, pd.Series(m_stock_index)]).drop_duplicates().astype(int)\n",
    "            inference_R = model.inference(m) # return (N, 1)\n",
    "            predict_R = model.inference(m) # reutrn (N, 1)\n",
    "\n",
    "            # move inference_R and predict_R to cpu\n",
    "            inference_R = inference_R.cpu().detach().numpy()\n",
    "            predict_R = predict_R.cpu().detach().numpy()\n",
    "\n",
    "            inference_R = pd.DataFrame(inference_R, index=m_stock_index, columns=[m])\n",
    "            predict_R = pd.DataFrame(predict_R, index=m_stock_index, columns=[m])\n",
    "\n",
    "            \n",
    "            inference_result = pd.concat([inference_result.reset_index(drop=True), inference_R.reset_index(drop=True)], axis=1) # (N, T)\n",
    "            predict_result = pd.concat([predict_result.reset_index(drop=True), predict_R.reset_index(drop=True)], axis=1) # (N, T)\n",
    "\n",
    "            # DEBUG:\n",
    "            # save inference_R and predict_R to csv\n",
    "            # inference_result.to_csv(f'temp/{model.name}_inference_stock_{m}.csv')\n",
    "            # predict_result.to_csv(f'temp/{model.name}_predict_stock_{m}.csv')\n",
    "            \n",
    "        # model refit (change train period and valid period)\n",
    "        model.refit()\n",
    "\n",
    "    inference_result = pd.DataFrame(inference_result.values, index=charas, columns=test_mons)\n",
    "    inference_result.to_csv(f'results/inference/{model.name}_inference.csv')\n",
    "    \n",
    "    predict_result = pd.DataFrame(predict_result.values, index=charas, columns=test_mons)\n",
    "    predict_result.to_csv(f'results/predict/{model.name}_predict.csv')\n",
    "    return inference_result, predict_result"
   ]
  },
  {
   "cell_type": "code",
   "execution_count": 6,
   "metadata": {},
   "outputs": [],
   "source": [
    "from models.CA import CA0, CA1, CA2, CA3\n",
    "import gc"
   ]
  },
  {
   "cell_type": "code",
   "execution_count": 7,
   "metadata": {},
   "outputs": [
    {
     "name": "stdout",
     "output_type": "stream",
     "text": [
      "begin of CA3_1\n"
     ]
    },
    {
     "name": "stderr",
     "output_type": "stream",
     "text": [
      "CA3_1 Inferencing & Predicting: 100%|\u001b[31m██████████\u001b[0m| 30/30 [01:53<00:00,  3.78s/it, Year=2016]\n"
     ]
    },
    {
     "name": "stdout",
     "output_type": "stream",
     "text": [
      "begin of CA3_2\n"
     ]
    },
    {
     "name": "stderr",
     "output_type": "stream",
     "text": [
      "CA3_2 Inferencing & Predicting:   0%|\u001b[31m          \u001b[0m| 0/30 [00:02<?, ?it/s, Year=1987]\n"
     ]
    },
    {
     "ename": "AssertionError",
     "evalue": "Dimension mismatch between mon_factor: torch.Size([1, 2]) and mon_beta: torch.Size([94, 2])",
     "output_type": "error",
     "traceback": [
      "\u001b[1;31m---------------------------------------------------------------------------\u001b[0m",
      "\u001b[1;31mAssertionError\u001b[0m                            Traceback (most recent call last)",
      "Cell \u001b[1;32mIn[7], line 8\u001b[0m\n\u001b[0;32m      6\u001b[0m ca3_lists\u001b[39m.\u001b[39mappend(CA3(i \u001b[39m+\u001b[39m \u001b[39m1\u001b[39m)\u001b[39m.\u001b[39mto(\u001b[39m'\u001b[39m\u001b[39mcuda\u001b[39m\u001b[39m'\u001b[39m))\n\u001b[0;32m      7\u001b[0m \u001b[39mprint\u001b[39m(\u001b[39mf\u001b[39m\u001b[39m'\u001b[39m\u001b[39mbegin of \u001b[39m\u001b[39m{\u001b[39;00mca3_lists[i]\u001b[39m.\u001b[39mname\u001b[39m}\u001b[39;00m\u001b[39m'\u001b[39m)\n\u001b[1;32m----> 8\u001b[0m inference_result, predict_results \u001b[39m=\u001b[39m model_inference_and_predict_CA(ca3_lists[i])\n",
      "Cell \u001b[1;32mIn[5], line 16\u001b[0m, in \u001b[0;36mmodel_inference_and_predict_CA\u001b[1;34m(model)\u001b[0m\n\u001b[0;32m     14\u001b[0m m_stock_index, _, _, _ \u001b[39m=\u001b[39m model\u001b[39m.\u001b[39m_get_item(m)\n\u001b[0;32m     15\u001b[0m stock_index \u001b[39m=\u001b[39m pd\u001b[39m.\u001b[39mconcat([stock_index, pd\u001b[39m.\u001b[39mSeries(m_stock_index)])\u001b[39m.\u001b[39mdrop_duplicates()\u001b[39m.\u001b[39mastype(\u001b[39mint\u001b[39m)\n\u001b[1;32m---> 16\u001b[0m inference_R \u001b[39m=\u001b[39m model\u001b[39m.\u001b[39;49minference(m) \u001b[39m# return (N, 1)\u001b[39;00m\n\u001b[0;32m     17\u001b[0m predict_R \u001b[39m=\u001b[39m model\u001b[39m.\u001b[39minference(m) \u001b[39m# reutrn (N, 1)\u001b[39;00m\n\u001b[0;32m     19\u001b[0m \u001b[39m# move inference_R and predict_R to cpu\u001b[39;00m\n",
      "File \u001b[1;32md:\\Homeworks\\DL\\proj2\\models\\modelBase.py:53\u001b[0m, in \u001b[0;36mmodelBase.inference\u001b[1;34m(self, month)\u001b[0m\n\u001b[0;32m     49\u001b[0m \u001b[39massert\u001b[39;00m month \u001b[39m>\u001b[39m\u001b[39m=\u001b[39m \u001b[39mself\u001b[39m\u001b[39m.\u001b[39mtest_period[\u001b[39m0\u001b[39m], \u001b[39mf\u001b[39m\u001b[39m\"\u001b[39m\u001b[39mMonth error, \u001b[39m\u001b[39m{\u001b[39;00mmonth\u001b[39m}\u001b[39;00m\u001b[39m is not in test period \u001b[39m\u001b[39m{\u001b[39;00m\u001b[39mself\u001b[39m\u001b[39m.\u001b[39mtest_period\u001b[39m}\u001b[39;00m\u001b[39m\"\u001b[39m\n\u001b[0;32m     51\u001b[0m mon_factor, mon_beta \u001b[39m=\u001b[39m \u001b[39mself\u001b[39m\u001b[39m.\u001b[39mcalFactor(month), \u001b[39mself\u001b[39m\u001b[39m.\u001b[39mcalBeta(month)\n\u001b[1;32m---> 53\u001b[0m \u001b[39massert\u001b[39;00m mon_beta\u001b[39m.\u001b[39mshape[\u001b[39m1\u001b[39m] \u001b[39m==\u001b[39m mon_factor\u001b[39m.\u001b[39mshape[\u001b[39m0\u001b[39m], \u001b[39mf\u001b[39m\u001b[39m\"\u001b[39m\u001b[39mDimension mismatch between mon_factor: \u001b[39m\u001b[39m{\u001b[39;00mmon_factor\u001b[39m.\u001b[39mshape\u001b[39m}\u001b[39;00m\u001b[39m and mon_beta: \u001b[39m\u001b[39m{\u001b[39;00mmon_beta\u001b[39m.\u001b[39mshape\u001b[39m}\u001b[39;00m\u001b[39m\"\u001b[39m\n\u001b[0;32m     55\u001b[0m \u001b[39m# R_{N*1} = Beta_{N*K} @ F_{K*1}\u001b[39;00m\n\u001b[0;32m     56\u001b[0m \u001b[39mreturn\u001b[39;00m mon_beta \u001b[39m@\u001b[39m mon_factor\n",
      "\u001b[1;31mAssertionError\u001b[0m: Dimension mismatch between mon_factor: torch.Size([1, 2]) and mon_beta: torch.Size([94, 2])"
     ]
    }
   ],
   "source": [
    "ca3_lists = []\n",
    "infer_results = None\n",
    "predict_results = None\n",
    "for i in range(6):\n",
    "    gc.collect()\n",
    "    ca3_lists.append(CA3(i + 1).to('cuda'))\n",
    "    print(f'begin of {ca3_lists[i].name}')\n",
    "    inference_result, predict_results = model_inference_and_predict_CA(ca3_lists[i])\n"
   ]
  }
 ],
 "metadata": {
  "kernelspec": {
   "display_name": "myconda",
   "language": "python",
   "name": "python3"
  },
  "language_info": {
   "codemirror_mode": {
    "name": "ipython",
    "version": 3
   },
   "file_extension": ".py",
   "mimetype": "text/x-python",
   "name": "python",
   "nbconvert_exporter": "python",
   "pygments_lexer": "ipython3",
   "version": "3.10.7"
  },
  "orig_nbformat": 4
 },
 "nbformat": 4,
 "nbformat_minor": 2
}
